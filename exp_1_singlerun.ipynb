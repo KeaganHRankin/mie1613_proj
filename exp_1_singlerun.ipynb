{
 "cells": [
  {
   "cell_type": "markdown",
   "metadata": {},
   "source": [
    "# MIE1613 Project Experiment #1 - Single Run\n",
    "Here I make sure the simulation is operating correctly by running a single instance using the input data"
   ]
  },
  {
   "cell_type": "code",
   "execution_count": 1,
   "metadata": {},
   "outputs": [
    {
     "name": "stderr",
     "output_type": "stream",
     "text": [
      "c:\\Users\\Keagan Rankin\\anaconda3\\lib\\site-packages\\pandas\\core\\computation\\expressions.py:21: UserWarning: Pandas requires version '2.8.4' or newer of 'numexpr' (version '2.8.1' currently installed).\n",
      "  from pandas.core.computation.check import NUMEXPR_INSTALLED\n",
      "c:\\Users\\Keagan Rankin\\anaconda3\\lib\\site-packages\\pandas\\core\\arrays\\masked.py:60: UserWarning: Pandas requires version '1.3.6' or newer of 'bottleneck' (version '1.3.4' currently installed).\n",
      "  from pandas.core import (\n"
     ]
    }
   ],
   "source": [
    "# Import Libraries\n",
    "# Data\n",
    "import numpy as np\n",
    "import scipy as sp\n",
    "from scipy import stats\n",
    "import pandas as pd\n",
    "import random\n",
    "\n",
    "import re\n",
    "from copy import deepcopy\n",
    "#from tqdm import tqdm\n",
    "import tqdm.notebook as tq\n",
    "\n",
    "#Viz\n",
    "import matplotlib.pyplot as plt\n",
    "import matplotlib.ticker as ticker\n",
    "import seaborn as sns\n",
    "sns.set(font='Helvetica') # Futura? Calibri Light? \n",
    "sns.set_style(\"white\")\n",
    "sns.set_theme(style='ticks')\n",
    "sns.set_context('talk')"
   ]
  },
  {
   "cell_type": "markdown",
   "metadata": {},
   "source": [
    "## Import\n",
    "The simulation object and the required input data (emissions data and housing sample paths)"
   ]
  },
  {
   "cell_type": "code",
   "execution_count": 2,
   "metadata": {},
   "outputs": [],
   "source": [
    "# Simulation object\n",
    "from packages.project_package.mie_importer import *\n",
    "from packages.project_package.mie_simulation import *"
   ]
  },
  {
   "cell_type": "code",
   "execution_count": 21,
   "metadata": {},
   "outputs": [
    {
     "name": "stdout",
     "output_type": "stream",
     "text": [
      "Importer created. Change self.factor_range for sensitivity analysis before importing.\n"
     ]
    }
   ],
   "source": [
    "# Emissions data\n",
    "Impr = MIEImporter()\n",
    "Impr.factor_range = 'likely'\n",
    "embodied_data, operational_data = Impr.import_emission_data()\n",
    "\n",
    "# Housing sample paths: 6000 exist for each scenario.\n",
    "starts_data = pd.read_csv('data/input_data/starts_samplepaths_bayesian_mg6.csv', index_col=0)"
   ]
  },
  {
   "cell_type": "code",
   "execution_count": 28,
   "metadata": {},
   "outputs": [
    {
     "data": {
      "text/html": [
       "<div>\n",
       "<style scoped>\n",
       "    .dataframe tbody tr th:only-of-type {\n",
       "        vertical-align: middle;\n",
       "    }\n",
       "\n",
       "    .dataframe tbody tr th {\n",
       "        vertical-align: top;\n",
       "    }\n",
       "\n",
       "    .dataframe thead th {\n",
       "        text-align: right;\n",
       "    }\n",
       "</style>\n",
       "<table border=\"1\" class=\"dataframe\">\n",
       "  <thead>\n",
       "    <tr style=\"text-align: right;\">\n",
       "      <th></th>\n",
       "      <th>2023</th>\n",
       "      <th>2024</th>\n",
       "      <th>2025</th>\n",
       "      <th>2026</th>\n",
       "      <th>2027</th>\n",
       "      <th>2028</th>\n",
       "      <th>2029</th>\n",
       "      <th>2030</th>\n",
       "      <th>2031</th>\n",
       "      <th>2032</th>\n",
       "      <th>...</th>\n",
       "      <th>2041</th>\n",
       "      <th>2042</th>\n",
       "      <th>2043</th>\n",
       "      <th>2044</th>\n",
       "      <th>2045</th>\n",
       "      <th>2046</th>\n",
       "      <th>2047</th>\n",
       "      <th>2048</th>\n",
       "      <th>2049</th>\n",
       "      <th>2050</th>\n",
       "    </tr>\n",
       "  </thead>\n",
       "  <tbody>\n",
       "    <tr>\n",
       "      <th>0</th>\n",
       "      <td>227540.712511</td>\n",
       "      <td>229028.449488</td>\n",
       "      <td>230449.784185</td>\n",
       "      <td>231683.318568</td>\n",
       "      <td>232771.419736</td>\n",
       "      <td>233769.898195</td>\n",
       "      <td>234691.789975</td>\n",
       "      <td>235545.242594</td>\n",
       "      <td>236337.181445</td>\n",
       "      <td>237074.124542</td>\n",
       "      <td>...</td>\n",
       "      <td>242000.114555</td>\n",
       "      <td>242451.079734</td>\n",
       "      <td>242897.563778</td>\n",
       "      <td>243341.603565</td>\n",
       "      <td>243765.681932</td>\n",
       "      <td>244171.835756</td>\n",
       "      <td>244561.694542</td>\n",
       "      <td>244934.036162</td>\n",
       "      <td>245288.860617</td>\n",
       "      <td>245628.204785</td>\n",
       "    </tr>\n",
       "    <tr>\n",
       "      <th>1</th>\n",
       "      <td>234190.106867</td>\n",
       "      <td>235677.470315</td>\n",
       "      <td>237098.448153</td>\n",
       "      <td>238331.672830</td>\n",
       "      <td>239419.500805</td>\n",
       "      <td>240417.728573</td>\n",
       "      <td>241339.388891</td>\n",
       "      <td>242192.627232</td>\n",
       "      <td>242984.367249</td>\n",
       "      <td>243721.125320</td>\n",
       "      <td>...</td>\n",
       "      <td>248645.878552</td>\n",
       "      <td>249096.730506</td>\n",
       "      <td>249543.102450</td>\n",
       "      <td>249987.030751</td>\n",
       "      <td>250411.002643</td>\n",
       "      <td>250817.054493</td>\n",
       "      <td>251206.815396</td>\n",
       "      <td>251579.063532</td>\n",
       "      <td>251933.798899</td>\n",
       "      <td>252273.057868</td>\n",
       "    </tr>\n",
       "    <tr>\n",
       "      <th>2</th>\n",
       "      <td>227243.676362</td>\n",
       "      <td>228737.131858</td>\n",
       "      <td>230163.929838</td>\n",
       "      <td>231402.205643</td>\n",
       "      <td>232494.489222</td>\n",
       "      <td>233496.805602</td>\n",
       "      <td>234422.240921</td>\n",
       "      <td>235278.974016</td>\n",
       "      <td>236073.956898</td>\n",
       "      <td>236813.732635</td>\n",
       "      <td>...</td>\n",
       "      <td>241758.657020</td>\n",
       "      <td>242211.355605</td>\n",
       "      <td>242659.555830</td>\n",
       "      <td>243105.302405</td>\n",
       "      <td>243531.010831</td>\n",
       "      <td>243938.725817</td>\n",
       "      <td>244330.083130</td>\n",
       "      <td>244703.855946</td>\n",
       "      <td>245060.044264</td>\n",
       "      <td>245400.692793</td>\n",
       "    </tr>\n",
       "    <tr>\n",
       "      <th>3</th>\n",
       "      <td>227243.676362</td>\n",
       "      <td>228737.131858</td>\n",
       "      <td>230163.929838</td>\n",
       "      <td>231402.205643</td>\n",
       "      <td>232494.489222</td>\n",
       "      <td>233496.805602</td>\n",
       "      <td>234422.240921</td>\n",
       "      <td>235278.974016</td>\n",
       "      <td>236073.956898</td>\n",
       "      <td>236813.732635</td>\n",
       "      <td>...</td>\n",
       "      <td>241758.657020</td>\n",
       "      <td>242211.355605</td>\n",
       "      <td>242659.555830</td>\n",
       "      <td>243105.302405</td>\n",
       "      <td>243531.010831</td>\n",
       "      <td>243938.725817</td>\n",
       "      <td>244330.083130</td>\n",
       "      <td>244703.855946</td>\n",
       "      <td>245060.044264</td>\n",
       "      <td>245400.692793</td>\n",
       "    </tr>\n",
       "    <tr>\n",
       "      <th>4</th>\n",
       "      <td>220045.727238</td>\n",
       "      <td>221380.850518</td>\n",
       "      <td>222656.383136</td>\n",
       "      <td>223763.380204</td>\n",
       "      <td>224739.862756</td>\n",
       "      <td>225635.916195</td>\n",
       "      <td>226463.239301</td>\n",
       "      <td>227229.143811</td>\n",
       "      <td>227939.844702</td>\n",
       "      <td>228601.191365</td>\n",
       "      <td>...</td>\n",
       "      <td>233021.867899</td>\n",
       "      <td>233426.572573</td>\n",
       "      <td>233827.255792</td>\n",
       "      <td>234225.745489</td>\n",
       "      <td>234606.321429</td>\n",
       "      <td>234970.811547</td>\n",
       "      <td>235320.678190</td>\n",
       "      <td>235654.824596</td>\n",
       "      <td>235973.250768</td>\n",
       "      <td>236277.784637</td>\n",
       "    </tr>\n",
       "  </tbody>\n",
       "</table>\n",
       "<p>5 rows × 28 columns</p>\n",
       "</div>"
      ],
      "text/plain": [
       "            2023           2024           2025           2026           2027  \\\n",
       "0  227540.712511  229028.449488  230449.784185  231683.318568  232771.419736   \n",
       "1  234190.106867  235677.470315  237098.448153  238331.672830  239419.500805   \n",
       "2  227243.676362  228737.131858  230163.929838  231402.205643  232494.489222   \n",
       "3  227243.676362  228737.131858  230163.929838  231402.205643  232494.489222   \n",
       "4  220045.727238  221380.850518  222656.383136  223763.380204  224739.862756   \n",
       "\n",
       "            2028           2029           2030           2031           2032  \\\n",
       "0  233769.898195  234691.789975  235545.242594  236337.181445  237074.124542   \n",
       "1  240417.728573  241339.388891  242192.627232  242984.367249  243721.125320   \n",
       "2  233496.805602  234422.240921  235278.974016  236073.956898  236813.732635   \n",
       "3  233496.805602  234422.240921  235278.974016  236073.956898  236813.732635   \n",
       "4  225635.916195  226463.239301  227229.143811  227939.844702  228601.191365   \n",
       "\n",
       "   ...           2041           2042           2043           2044  \\\n",
       "0  ...  242000.114555  242451.079734  242897.563778  243341.603565   \n",
       "1  ...  248645.878552  249096.730506  249543.102450  249987.030751   \n",
       "2  ...  241758.657020  242211.355605  242659.555830  243105.302405   \n",
       "3  ...  241758.657020  242211.355605  242659.555830  243105.302405   \n",
       "4  ...  233021.867899  233426.572573  233827.255792  234225.745489   \n",
       "\n",
       "            2045           2046           2047           2048           2049  \\\n",
       "0  243765.681932  244171.835756  244561.694542  244934.036162  245288.860617   \n",
       "1  250411.002643  250817.054493  251206.815396  251579.063532  251933.798899   \n",
       "2  243531.010831  243938.725817  244330.083130  244703.855946  245060.044264   \n",
       "3  243531.010831  243938.725817  244330.083130  244703.855946  245060.044264   \n",
       "4  234606.321429  234970.811547  235320.678190  235654.824596  235973.250768   \n",
       "\n",
       "            2050  \n",
       "0  245628.204785  \n",
       "1  252273.057868  \n",
       "2  245400.692793  \n",
       "3  245400.692793  \n",
       "4  236277.784637  \n",
       "\n",
       "[5 rows x 28 columns]"
      ]
     },
     "execution_count": 28,
     "metadata": {},
     "output_type": "execute_result"
    }
   ],
   "source": [
    "starts_data.loc[:,'2023':'2050'].head()"
   ]
  },
  {
   "cell_type": "markdown",
   "metadata": {},
   "source": [
    "## Simulate a single run\n",
    "Create an instance of the simulation object"
   ]
  },
  {
   "cell_type": "code",
   "execution_count": 12,
   "metadata": {},
   "outputs": [
    {
     "name": "stdout",
     "output_type": "stream",
     "text": [
      "Sim object created. Initialize self.e_data and self.o_data\n"
     ]
    }
   ],
   "source": [
    "# init\n",
    "Simr = MIESimulation()\n",
    "Simr.e_data = embodied_data\n",
    "Simr.o_data = operational_data"
   ]
  },
  {
   "cell_type": "code",
   "execution_count": 54,
   "metadata": {},
   "outputs": [],
   "source": [
    "# simulate a single run\n",
    "years = np.arange(2023, 2051)\n",
    "starts_0 = starts_data.loc[0,'2023':'2050'].values.astype(int)\n",
    "single_test = Simr.chain_periods_build_lmh(years, starts_0, verbose=False)"
   ]
  },
  {
   "cell_type": "code",
   "execution_count": 74,
   "metadata": {},
   "outputs": [
    {
     "data": {
      "image/png": "[encoded data removed]",
      "text/plain": [
       "<Figure size 720x360 with 2 Axes>"
      ]
     },
     "metadata": {
      "needs_background": "light"
     },
     "output_type": "display_data"
    }
   ],
   "source": [
    "# plot yearly\n",
    "fig, ax = plt.subplots(1,2, figsize=(10,5))\n",
    "ax[0].plot(years, np.array(single_test['E_e'])*1e-9, color='grey')\n",
    "ax[1].plot(years, np.array(single_test['E_o'])*1e-9)\n",
    "\n",
    "for a in ax.reshape(-1):\n",
    "    a.set_ylim([-0.2,7.5])\n",
    "    #a.hlines(0, 2020, 2055)\n",
    "    a.set_xlabel('year')\n",
    "    a.set_ylabel('MtCO$_2$e')\n",
    "\n",
    "plt.tight_layout()"
   ]
  },
  {
   "cell_type": "code",
   "execution_count": 77,
   "metadata": {},
   "outputs": [
    {
     "data": {
      "image/png": "[encoded data removed]",
      "text/plain": [
       "<Figure size 720x360 with 2 Axes>"
      ]
     },
     "metadata": {
      "needs_background": "light"
     },
     "output_type": "display_data"
    }
   ],
   "source": [
    "# plot cumulative\n",
    "fig, ax = plt.subplots(1,2, figsize=(10,5))\n",
    "ax[0].plot(years, np.array(single_test['E_e']).cumsum()*1e-9, color='grey')\n",
    "ax[1].plot(years, np.array(single_test['E_o']).cumsum()*1e-9)\n",
    "\n",
    "for a in ax.reshape(-1):\n",
    "    a.set_ylim([-5,86])\n",
    "    #a.hlines(0, 2020, 2055)\n",
    "    a.set_xlabel('year')\n",
    "    a.set_ylabel('MtCO$_2$e')\n",
    "\n",
    "plt.tight_layout()"
   ]
  }
 ],
 "metadata": {
  "kernelspec": {
   "display_name": "base",
   "language": "python",
   "name": "python3"
  },
  "language_info": {
   "codemirror_mode": {
    "name": "ipython",
    "version": 3
   },
   "file_extension": ".py",
   "mimetype": "text/x-python",
   "name": "python",
   "nbconvert_exporter": "python",
   "pygments_lexer": "ipython3",
   "version": "3.9.12"
  }
 },
 "nbformat": 4,
 "nbformat_minor": 2
}
