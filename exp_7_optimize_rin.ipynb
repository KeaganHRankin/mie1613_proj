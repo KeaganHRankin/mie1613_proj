{
 "cells": [
  {
   "cell_type": "markdown",
   "metadata": {},
   "source": [
    "# MIE1613 Project Experiment #7 - Rank-Choice Opitimization using Rinotts\n",
    "Here I use the simulation to answer question 3 of the report: <i>What might optimal future hosuing construction look like</i> <br>\n",
    "In experiment six I tried to use gradient estimators to analyze the continuous ratio, but the finite difference was not working well. Here I pick some select ratios and see it Rinnotts can do better"
   ]
  },
  {
   "cell_type": "code",
   "execution_count": 1,
   "metadata": {},
   "outputs": [
    {
     "name": "stderr",
     "output_type": "stream",
     "text": [
      "c:\\Users\\Keagan Rankin\\anaconda3\\lib\\site-packages\\pandas\\core\\computation\\expressions.py:21: UserWarning: Pandas requires version '2.8.4' or newer of 'numexpr' (version '2.8.1' currently installed).\n",
      "  from pandas.core.computation.check import NUMEXPR_INSTALLED\n",
      "c:\\Users\\Keagan Rankin\\anaconda3\\lib\\site-packages\\pandas\\core\\arrays\\masked.py:60: UserWarning: Pandas requires version '1.3.6' or newer of 'bottleneck' (version '1.3.4' currently installed).\n",
      "  from pandas.core import (\n"
     ]
    }
   ],
   "source": [
    "# Import Libraries\n",
    "# Data\n",
    "import numpy as np\n",
    "import scipy as sp\n",
    "from scipy import stats\n",
    "import pandas as pd\n",
    "import random\n",
    "\n",
    "import re\n",
    "from copy import deepcopy\n",
    "#from tqdm import tqdm\n",
    "import tqdm.notebook as tq\n",
    "\n",
    "#Viz\n",
    "import matplotlib.pyplot as plt\n",
    "import matplotlib.ticker as ticker\n",
    "import matplotlib.gridspec as gridspec\n",
    "import seaborn as sns\n",
    "sns.set(font='Helvetica') # Futura? Calibri Light? \n",
    "sns.set_style(\"white\")\n",
    "sns.set_theme(style='ticks')\n",
    "sns.set_context('talk')"
   ]
  },
  {
   "cell_type": "markdown",
   "metadata": {},
   "source": [
    "## Import\n",
    "The simulation object and the required input data (emissions data and housing sample paths) <br>\n",
    "<b> Important </b> -> the importer factor range is modified for sensitivity analysis: there are three values: min, most likely, max."
   ]
  },
  {
   "cell_type": "code",
   "execution_count": 106,
   "metadata": {},
   "outputs": [],
   "source": [
    "# Simulation object\n",
    "from packages.project_package.mie_importer import *\n",
    "from packages.project_package.mie_simulation import *"
   ]
  },
  {
   "cell_type": "code",
   "execution_count": 126,
   "metadata": {},
   "outputs": [
    {
     "name": "stdout",
     "output_type": "stream",
     "text": [
      "Importer created. Change self.factor_range for sensitivity analysis before importing.\n"
     ]
    }
   ],
   "source": [
    "# Emissions data\n",
    "Impr = MIEImporter()\n",
    "Impr.factor_range = 'max'\n",
    "\n",
    "Impr.e_path = 'data/input_data/embodied_'+Impr.factor_range+'_conservative.csv'\n",
    "Impr.o_path = 'data/input_data/operational_intensity_2020_2050.csv'\n",
    "embodied_data, operational_data = Impr.import_emission_data()\n",
    "\n",
    "# Housing sample paths: 6000 exist for each scenario.\n",
    "starts_data_hg10 = pd.read_csv('data/input_data/starts_samplepaths_bayesian_hg10.csv', index_col=0)"
   ]
  },
  {
   "cell_type": "code",
   "execution_count": 108,
   "metadata": {},
   "outputs": [
    {
     "name": "stdout",
     "output_type": "stream",
     "text": [
      "Sim object created. Initialize self.e_data and self.o_data\n"
     ]
    }
   ],
   "source": [
    "# init\n",
    "Simr = MIESimulation()\n",
    "Simr.e_data = embodied_data\n",
    "Simr.o_data = operational_data\n",
    "# share of low, middle, high: BAU construction in canada is around 40%, 30%, 30% (see FIG bau)\n",
    "Simr.nlmh = np.array([0.4, 0.3, 0.3])\n",
    "\n",
    "# init single path for cumulative\n",
    "years = np.arange(2023, 2040)\n",
    "starts_hg = starts_data_hg10.loc[Simr.seed,'2023':'2050'].values.astype(int)"
   ]
  },
  {
   "cell_type": "markdown",
   "metadata": {},
   "source": [
    "## Rinott's Combined with Subset Selection\n",
    "Trying to optimize the ratio from exp_6 using Rinotts procedure instead. I choose a range of ratios and run them. I adapted function from NSGS_inclass.ipynb exercise from class."
   ]
  },
  {
   "cell_type": "code",
   "execution_count": 109,
   "metadata": {},
   "outputs": [],
   "source": [
    "from scipy.stats import expon, norm, chi2, t"
   ]
  },
  {
   "cell_type": "markdown",
   "metadata": {},
   "source": [
    "Put the simulation in a general function"
   ]
  },
  {
   "cell_type": "code",
   "execution_count": 110,
   "metadata": {},
   "outputs": [],
   "source": [
    "def MySim(years, starts, ratio, n):\n",
    "    \"\"\"\n",
    "    Return iteration of cumulative simulation\n",
    "    with its fixed seed.\n",
    "    years = range of years to sim.\n",
    "    starts = # houses = len(range years).\n",
    "    ratio = ratio of missing middle to mid/high rise homes.\n",
    "    n = number of replications.\n",
    "    \"\"\"\n",
    "    \n",
    "    # CRN\n",
    "    np.random.seed(Simr.seed)\n",
    "\n",
    "    # ratio\n",
    "    l = 0\n",
    "    r_mh = ratio # m/h\n",
    "    lmh = np.array([l, (1-l)*r_mh, (1-l)*(1-r_mh)])\n",
    "    Simr.nlmh = lmh\n",
    "\n",
    "    # performed the simulation n times\n",
    "    thetas = np.zeros(n)\n",
    "    for j in range(n):\n",
    "        results = Simr.chain_periods_build_lmh(years, starts)\n",
    "        theta = np.array(results['E_e'])*1e-9 + np.array(results['E_o'])*1e-9\n",
    "        theta = theta.sum()\n",
    "\n",
    "        thetas[j] = theta\n",
    "    \n",
    "    # Rinnot's maximizes; return negative theta\n",
    "    return -thetas"
   ]
  },
  {
   "cell_type": "code",
   "execution_count": 111,
   "metadata": {},
   "outputs": [
    {
     "name": "stdout",
     "output_type": "stream",
     "text": [
      "0.0 -219.5198759381231\n",
      "0.1111111111111111 -230.59324135009925\n",
      "0.2222222222222222 -241.6734321808185\n",
      "0.3333333333333333 -252.75208412458423\n",
      "0.4444444444444444 -263.83193494594764\n",
      "0.5555555555555556 -274.91334162767464\n",
      "0.6666666666666666 -285.99101964326115\n",
      "0.7777777777777777 -297.07159927322544\n",
      "0.8888888888888888 -308.1440318318631\n",
      "1.0 -319.21465774570345\n"
     ]
    }
   ],
   "source": [
    "for r in np.linspace(0,1,10):#[0,0.25,0.5,0.75,1]:\n",
    "    print(r, MySim(years, starts_hg, ratio=r, n=10).mean())"
   ]
  },
  {
   "cell_type": "markdown",
   "metadata": {},
   "source": [
    "Rinnott's procedure"
   ]
  },
  {
   "cell_type": "code",
   "execution_count": 112,
   "metadata": {},
   "outputs": [],
   "source": [
    "def Rinotth(k, n0, pstar, conf, rep):\n",
    "    np.random.seed(13)\n",
    "\n",
    "    Z = np.random.randn((k-1) * rep).reshape(rep, k-1)\n",
    "    Y = chi2.rvs(n0 - 1., size=((k-1) * rep)).reshape(rep, k-1)\n",
    "    C = chi2.rvs(n0 - 1., size=rep).reshape(rep, 1)\n",
    "    Cmat = np.tile(C, (1, k-1))\n",
    "\n",
    "    denom = np.sqrt((n0 - 1.) * (1./Y + 1./Cmat))\n",
    "    H = np.sort(np.apply_along_axis(np.max, 1, Z * denom))\n",
    "    Hstar = np.quantile(H, pstar)\n",
    "    \n",
    "    upper_index = int(np.ceil(pstar * rep + norm.ppf(conf) * np.sqrt(pstar * (1. - pstar) * rep) + 0.5)) - 1\n",
    "    Hupper = H[min(upper_index, len(H)-1)]  # Ensure index does not exceed array bounds\n",
    "\n",
    "    return {'h': Hstar, 'UCB': Hupper}\n",
    "\n",
    "# Example usage\n",
    "# result = Rinotth(5, 10, 0.9, 0.95, 100)\n",
    "# print(result)\n",
    "\n",
    "def Rinott(k_sub, alpha, n0, delta, subset_loop):\n",
    "    h_dict = Rinotth(k_sub, n0, 1-alpha, 0.99, 10000)\n",
    "    h = h_dict['UCB']  # Extracting the UCB value from the dictionary\n",
    "\n",
    "    Ybar = []\n",
    "    Vars = []\n",
    "    Ns = []\n",
    "\n",
    "    for x in subset_loop:\n",
    "        Y = MySim(x, n0)\n",
    "        S2 = np.var(Y, ddof=1)\n",
    "        N = int(np.ceil(h**2 * S2 / delta**2))\n",
    "\n",
    "        if N > n0:\n",
    "            Y = np.append(Y, MySim(x, N-n0))\n",
    "\n",
    "        Ybar.append(np.mean(Y))\n",
    "        Vars.append(S2)\n",
    "        Ns.append(max(N, n0))\n",
    "\n",
    "    Best = np.argmax(Ybar) + 1  # +1 because Python is zero-indexed\n",
    "\n",
    "    return {'Best': Best, 'Ybar': Ybar, 'Var': Vars, 'N': Ns}\n",
    "\n",
    "\n",
    "def subset_crn(k, alpha, n, years, starts):\n",
    "    \"\"\"\n",
    "    Function to do subset selection with Common Random Numbers (CRN).\n",
    "    \"\"\"\n",
    "    #Yall = np.array([MySim(x, n, seed) for x in range(1, k+1)]).T\n",
    "    Yall = np.array([MySim(years=years, starts=starts, ratio=x, n=n) for x in np.linspace(0,1,k)]).T\n",
    "    Ybar = Yall.mean(axis=0)\n",
    "    \n",
    "    S2 = np.cov(Yall, rowvar=False) / n\n",
    "    tval = t.ppf(1-alpha/(k-1), df=n-1)\n",
    "    Subset = np.arange(1, k+1)\n",
    "    for i in range(k):\n",
    "        for j in range(k):\n",
    "            if Ybar[i] < (Ybar[j] - tval * np.sqrt(S2[i, i] + S2[j, j] - 2*S2[i, j])):\n",
    "                Subset[i] = 0\n",
    "                break\n",
    "    return {'Subset': Subset[Subset != 0], 'Ybar': Ybar, 'S2': S2, 'corr': np.corrcoef(Yall, rowvar=False)}"
   ]
  },
  {
   "cell_type": "markdown",
   "metadata": {},
   "source": [
    "Perform for different years"
   ]
  },
  {
   "cell_type": "code",
   "execution_count": 113,
   "metadata": {},
   "outputs": [
    {
     "name": "stdout",
     "output_type": "stream",
     "text": [
      "subset complete\n"
     ]
    }
   ],
   "source": [
    "years = np.arange(2023, 2040)\n",
    "\n",
    "# run subset crn\n",
    "subset_dict = subset_crn(k=5, alpha=0.025, n=100, years=years, starts=starts_hg)\n",
    "subset_res = subset_dict['Subset']\n",
    "print('subset complete')"
   ]
  },
  {
   "cell_type": "code",
   "execution_count": 114,
   "metadata": {},
   "outputs": [
    {
     "data": {
      "text/plain": [
       "{'Subset': array([1]),\n",
       " 'Ybar': array([-219.51642881, -244.44222967, -269.36348878, -294.2882367 ,\n",
       "        -319.20767154]),\n",
       " 'S2': array([[6.77998110e-06, 8.45313230e-06, 1.02533760e-05, 1.18282412e-05,\n",
       "         1.44068396e-05],\n",
       "        [8.45313230e-06, 1.15997324e-05, 1.32686673e-05, 1.50781016e-05,\n",
       "         1.79651205e-05],\n",
       "        [1.02533760e-05, 1.32686673e-05, 1.70273968e-05, 1.87656400e-05,\n",
       "         2.17672050e-05],\n",
       "        [1.18282412e-05, 1.50781016e-05, 1.87656400e-05, 2.19526726e-05,\n",
       "         2.51241777e-05],\n",
       "        [1.44068396e-05, 1.79651205e-05, 2.17672050e-05, 2.51241777e-05,\n",
       "         3.06344536e-05]]),\n",
       " 'corr': array([[1.        , 0.95318992, 0.95428592, 0.96953218, 0.99965331],\n",
       "        [0.95318992, 1.        , 0.94412434, 0.94488506, 0.95301795],\n",
       "        [0.95428592, 0.94412434, 1.        , 0.97061177, 0.95306708],\n",
       "        [0.96953218, 0.94488506, 0.97061177, 1.        , 0.96881998],\n",
       "        [0.99965331, 0.95301795, 0.95306708, 0.96881998, 1.        ]])}"
      ]
     },
     "execution_count": 114,
     "metadata": {},
     "output_type": "execute_result"
    }
   ],
   "source": [
    "subset_res\n",
    "subset_dict"
   ]
  },
  {
   "cell_type": "code",
   "execution_count": 127,
   "metadata": {},
   "outputs": [
    {
     "name": "stdout",
     "output_type": "stream",
     "text": [
      "subset complete\n"
     ]
    }
   ],
   "source": [
    "years = np.arange(2023, 2025)\n",
    "\n",
    "# run subset crn\n",
    "subset_dict_2025 = subset_crn(k=5, alpha=0.025, n=100, years=years, starts=starts_hg)\n",
    "subset_res_2025 = subset_dict_2025['Subset']\n",
    "print('subset complete')"
   ]
  },
  {
   "cell_type": "code",
   "execution_count": 129,
   "metadata": {},
   "outputs": [
    {
     "name": "stdout",
     "output_type": "stream",
     "text": [
      "subset complete\n"
     ]
    }
   ],
   "source": [
    "years = np.arange(2023, 2030)\n",
    "\n",
    "# run subset crn\n",
    "subset_dict_2030 = subset_crn(k=5, alpha=0.025, n=100, years=years, starts=starts_hg)\n",
    "subset_res_2030 = subset_dict_2030['Subset']\n",
    "print('subset complete')"
   ]
  },
  {
   "cell_type": "code",
   "execution_count": 146,
   "metadata": {},
   "outputs": [
    {
     "data": {
      "image/png": "[encoded data removed]",
      "text/plain": [
       "<Figure size 648x432 with 1 Axes>"
      ]
     },
     "metadata": {
      "needs_background": "light"
     },
     "output_type": "display_data"
    }
   ],
   "source": [
    "fig, ax = plt.subplots(figsize=(9,6))\n",
    "\n",
    "ax.plot([x for x in np.linspace(0,1,5)], -subset_dict['Ybar'], marker='o',\n",
    "        color='#440154')\n",
    "ax.plot([x for x in np.linspace(0,1,5)], -subset_dict_2030['Ybar'], marker='o',\n",
    "        color='#31688e')\n",
    "ax.plot([x for x in np.linspace(0,1,5)], -subset_dict_2025['Ybar'], marker='o',\n",
    "        color='#35b779')\n",
    "\n",
    "ax.text(0.8,275,'2040', fontsize=20, color='#440154')\n",
    "ax.text(0.8,85,'2030', fontsize=20, color='#31688e')\n",
    "ax.text(0.8,30,'2025', fontsize=20, color='#35b779')\n",
    "#ax[1].scatter(subset_res, -np.array(rinott_res['Ybar']))\n",
    "\n",
    "t_list = ['subset algo', \"Rinnot's algo\"]\n",
    "#ax.set_title(t_list[i])\n",
    "ax.set_ylabel('cumulative MtCO$_2$e')\n",
    "ax.set_xlabel('$r=\\\\frac{M}{H}$')\n",
    "\n",
    "plt.tight_layout()\n",
    "#plt.savefig('optimization_space.png', bbox_inches='tight')"
   ]
  }
 ],
 "metadata": {
  "kernelspec": {
   "display_name": "base",
   "language": "python",
   "name": "python3"
  },
  "language_info": {
   "codemirror_mode": {
    "name": "ipython",
    "version": 3
   },
   "file_extension": ".py",
   "mimetype": "text/x-python",
   "name": "python",
   "nbconvert_exporter": "python",
   "pygments_lexer": "ipython3",
   "version": "3.9.12"
  }
 },
 "nbformat": 4,
 "nbformat_minor": 2
}
