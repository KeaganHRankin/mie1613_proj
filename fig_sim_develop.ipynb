{
 "cells": [
  {
   "cell_type": "markdown",
   "metadata": {},
   "source": [
    "# MIE1613 Project: Developing the FIG-toronto simulation"
   ]
  },
  {
   "cell_type": "code",
   "execution_count": 1,
   "metadata": {},
   "outputs": [
    {
     "name": "stderr",
     "output_type": "stream",
     "text": [
      "c:\\Users\\Keagan Rankin\\anaconda3\\lib\\site-packages\\scipy\\__init__.py:146: UserWarning: A NumPy version >=1.16.5 and <1.23.0 is required for this version of SciPy (detected version 1.26.4\n",
      "  warnings.warn(f\"A NumPy version >={np_minversion} and <{np_maxversion}\"\n",
      "c:\\Users\\Keagan Rankin\\anaconda3\\lib\\site-packages\\pandas\\core\\computation\\expressions.py:21: UserWarning: Pandas requires version '2.8.4' or newer of 'numexpr' (version '2.8.1' currently installed).\n",
      "  from pandas.core.computation.check import NUMEXPR_INSTALLED\n",
      "c:\\Users\\Keagan Rankin\\anaconda3\\lib\\site-packages\\pandas\\core\\arrays\\masked.py:60: UserWarning: Pandas requires version '1.3.6' or newer of 'bottleneck' (version '1.3.4' currently installed).\n",
      "  from pandas.core import (\n"
     ]
    }
   ],
   "source": [
    "# Import Libraries\n",
    "# Data\n",
    "import numpy as np\n",
    "import scipy as sp\n",
    "from scipy import stats\n",
    "import pandas as pd\n",
    "import random\n",
    "\n",
    "import re\n",
    "from copy import deepcopy\n",
    "#from tqdm import tqdm\n",
    "import tqdm.notebook as tq\n",
    "\n",
    "#Viz\n",
    "import matplotlib.pyplot as plt\n",
    "import matplotlib.ticker as ticker\n",
    "import seaborn as sns\n",
    "sns.set(font='Helvetica') # Futura? Calibri Light? \n",
    "sns.set_style(\"white\")\n",
    "sns.set_theme(style='ticks')\n",
    "sns.set_context('talk')"
   ]
  },
  {
   "cell_type": "markdown",
   "metadata": {},
   "source": [
    "## Structuring functions\n",
    "Want to create simulation using the principles and framework from the class. I will create functions that do the input fitting, simulation action, and output operations, and then store things as objects\n",
    "\n",
    "### Input functions"
   ]
  },
  {
   "cell_type": "markdown",
   "metadata": {},
   "source": [
    "These functions import the required data"
   ]
  },
  {
   "cell_type": "code",
   "execution_count": 2,
   "metadata": {},
   "outputs": [],
   "source": [
    "def import_emission_data(factor_range='likely', year=2023):\n",
    "    \"\"\"\n",
    "    imports and formats the emboded and operational \n",
    "    emissions per unit data for each building type.\n",
    "    factor_range = (min, likely, max) option for the embodied\n",
    "    ghg emission factors of materials. Used for sensitivity analysis.\n",
    "    year = year for embodied emissions data.\n",
    "    \"\"\"\n",
    "    # Initializations\n",
    "    op_path = 'data/CALCULATED_operational_intensity_2020_2050.csv'\n",
    "    emb_path = 'data/embodied_'+factor_range+'.csv'\n",
    "\n",
    "    # Embodied Emissions - load\n",
    "    embodied = pd.read_csv(emb_path, index_col=0)\n",
    "\n",
    "    # Operational Emissions - load pre-calculated table 2020-2050\n",
    "    operational = pd.read_csv(op_path, index_col=0).loc[2023:]\n",
    "\n",
    "    return (embodied, operational)\n"
   ]
  },
  {
   "cell_type": "code",
   "execution_count": 3,
   "metadata": {},
   "outputs": [],
   "source": [
    "emit_e, emit_o = import_emission_data(factor_range='likely', year=2023)"
   ]
  },
  {
   "cell_type": "code",
   "execution_count": 4,
   "metadata": {},
   "outputs": [
    {
     "data": {
      "text/html": [
       "<div>\n",
       "<style scoped>\n",
       "    .dataframe tbody tr th:only-of-type {\n",
       "        vertical-align: middle;\n",
       "    }\n",
       "\n",
       "    .dataframe tbody tr th {\n",
       "        vertical-align: top;\n",
       "    }\n",
       "\n",
       "    .dataframe thead th {\n",
       "        text-align: right;\n",
       "    }\n",
       "</style>\n",
       "<table border=\"1\" class=\"dataframe\">\n",
       "  <thead>\n",
       "    <tr style=\"text-align: right;\">\n",
       "      <th></th>\n",
       "      <th>detached_gju</th>\n",
       "      <th>attached_gju</th>\n",
       "      <th>apartment_gju</th>\n",
       "    </tr>\n",
       "  </thead>\n",
       "  <tbody>\n",
       "    <tr>\n",
       "      <th>2023</th>\n",
       "      <td>1.000000</td>\n",
       "      <td>1.000000</td>\n",
       "      <td>1.000000</td>\n",
       "    </tr>\n",
       "    <tr>\n",
       "      <th>2024</th>\n",
       "      <td>0.923240</td>\n",
       "      <td>0.909001</td>\n",
       "      <td>0.861270</td>\n",
       "    </tr>\n",
       "    <tr>\n",
       "      <th>2025</th>\n",
       "      <td>0.880167</td>\n",
       "      <td>0.867796</td>\n",
       "      <td>0.815109</td>\n",
       "    </tr>\n",
       "    <tr>\n",
       "      <th>2026</th>\n",
       "      <td>0.825500</td>\n",
       "      <td>0.803609</td>\n",
       "      <td>0.755476</td>\n",
       "    </tr>\n",
       "    <tr>\n",
       "      <th>2027</th>\n",
       "      <td>0.772036</td>\n",
       "      <td>0.740944</td>\n",
       "      <td>0.696773</td>\n",
       "    </tr>\n",
       "  </tbody>\n",
       "</table>\n",
       "</div>"
      ],
      "text/plain": [
       "      detached_gju  attached_gju  apartment_gju\n",
       "2023      1.000000      1.000000       1.000000\n",
       "2024      0.923240      0.909001       0.861270\n",
       "2025      0.880167      0.867796       0.815109\n",
       "2026      0.825500      0.803609       0.755476\n",
       "2027      0.772036      0.740944       0.696773"
      ]
     },
     "execution_count": 4,
     "metadata": {},
     "output_type": "execute_result"
    }
   ],
   "source": [
    "def percent_reduction_operational(operational_df):\n",
    "    \"\"\"\n",
    "    return a table of the percent reduction\n",
    "    of operational emissions each year compared \n",
    "    to the base year. Used when chaining time periods.\n",
    "    \"\"\"\n",
    "    return operational_df.div(operational_df.iloc[0], axis=1)\n",
    "\n",
    "percent_reduction_operational(emit_o).head()"
   ]
  },
  {
   "cell_type": "markdown",
   "metadata": {},
   "source": [
    "This fits emission inputs using MLE"
   ]
  },
  {
   "cell_type": "code",
   "execution_count": 5,
   "metadata": {},
   "outputs": [],
   "source": [
    "def embodied_fitter_mle(data, distribution=stats.exponnorm):\n",
    "    \"\"\"\n",
    "    Fit data to distribution\n",
    "    using maxmimum likelyhood estimation.\n",
    "    distribution = scipy type dist to fit.\n",
    "    data = imported embodied emissions data from import_emission_data().\n",
    "\n",
    "    fits the three major housing types, returns parameters.\n",
    "    \"\"\"\n",
    "    # three housing types\n",
    "    lmh = ['Single Family','Missing Middle','Mid High Rise']\n",
    "\n",
    "    # loop and fit each\n",
    "    parameters = {}\n",
    "    for house_type in lmh:\n",
    "        d_col = 'ghg_per_unit'\n",
    "\n",
    "        data_i = data.loc[data['labels_general']==house_type][d_col]\n",
    "        parameters[house_type] = distribution.fit(data_i)\n",
    "    \n",
    "    return parameters\n"
   ]
  },
  {
   "cell_type": "code",
   "execution_count": 6,
   "metadata": {},
   "outputs": [
    {
     "data": {
      "text/plain": [
       "{'Single Family': (1.8027800847884894, 43232.896492383894, 12680.214166091042),\n",
       " 'Missing Middle': (1.9692317430620259, 14671.068157312147, 5765.404652034498),\n",
       " 'Mid High Rise': (1.774038706436527, 20220.33723155928, 4305.313479593345)}"
      ]
     },
     "execution_count": 6,
     "metadata": {},
     "output_type": "execute_result"
    }
   ],
   "source": [
    "embodied_params_exp_norm = embodied_fitter_mle(data=emit_e.loc[emit_e['year']==2023])\n",
    "embodied_params_exp_norm"
   ]
  },
  {
   "cell_type": "markdown",
   "metadata": {},
   "source": [
    "time series data for housing starts"
   ]
  },
  {
   "cell_type": "code",
   "execution_count": 7,
   "metadata": {},
   "outputs": [],
   "source": [
    "# def build_houses"
   ]
  },
  {
   "cell_type": "markdown",
   "metadata": {},
   "source": [
    "## Simulation functions\n",
    "these functions run the simulation logic"
   ]
  },
  {
   "cell_type": "code",
   "execution_count": 8,
   "metadata": {},
   "outputs": [],
   "source": [
    "class Simulation:\n",
    "    \n",
    "    def __init__(self):\n",
    "        # random seed\n",
    "        self.seed = 1614\n",
    "\n",
    "        # year for single period simulation\n",
    "        self.year = 2023\n",
    "\n",
    "        # distribution for embodied emissions\n",
    "        self.e_dist = stats.exponnorm\n",
    "\n",
    "        # lmh name and percentages\n",
    "        self.lmh = ['Single Family','Missing Middle','Mid High Rise']\n",
    "        self.nlmh = [0.09, 0.24, 0.67]\n",
    "\n",
    "        # input data - embodied and operational\n",
    "        self.e_data = 0\n",
    "        self.o_data = 0\n",
    "        "
   ]
  },
  {
   "cell_type": "markdown",
   "metadata": {},
   "source": [
    "building block function: getting the operational and embodied emissions for a certain number of built houses"
   ]
  },
  {
   "cell_type": "code",
   "execution_count": 9,
   "metadata": {},
   "outputs": [],
   "source": [
    "def build_embodied(n, e_params, e_dist=stats.exponnorm):\n",
    "    \"\"\"\n",
    "    Building block function that calculates embodied\n",
    "    emissions from n constructed houses in time period T.\n",
    "    n = # units to build\n",
    "    e_dist = distribution of embodied emissions (kgCO2e/unit)\n",
    "    e_params = embodied distribution parameters\n",
    "    \"\"\"\n",
    "    # sample embodied\n",
    "    e_samples = e_dist.rvs(*e_params, size=n)\n",
    "    e_emissions = np.sum(e_samples) # sum of CO2e\n",
    "\n",
    "    return e_emissions\n",
    "\n",
    "\n",
    "def build_operational(n, o_factor):\n",
    "    \"\"\"\n",
    "    Building block function that calculates operational (energy)\n",
    "    emissions from n constructed houses in time period T\n",
    "    n = # of units\n",
    "    o_factor = operational CO2e per unit in T\n",
    "    \"\"\"\n",
    "    # return performance variables\n",
    "    o_emissions = o_factor * n # CO2e/unit * unit/time\n",
    "\n",
    "    return o_emissions"
   ]
  },
  {
   "cell_type": "code",
   "execution_count": 10,
   "metadata": {},
   "outputs": [],
   "source": [
    "def build_houses(n, o_factor, e_params, e_dist=stats.exponnorm):\n",
    "    \"\"\"\n",
    "    Building block function\n",
    "    Sample houses equal to the number that\n",
    "    must be built in time period T. Return performance\n",
    "    measure theta = E_embodied + E_operational\n",
    "    n = # of units to build.\n",
    "    e_dist = embodied distribution.\n",
    "    e_params = embodied distribution parameters.\n",
    "    o_factor = operational CO2e per unit per T.\n",
    "    \"\"\"\n",
    "    # fix random\n",
    "    #np.random.seed(seed=1613)\n",
    "\n",
    "    # sample embodied\n",
    "    e_samples = e_dist.rvs(*e_params, size=n)\n",
    "\n",
    "    # return performance variables\n",
    "    o_emissions = o_factor * n # CO2e/unit * unit/time\n",
    "    e_emissions = np.sum(e_samples) # sum of CO2e\n",
    "\n",
    "    # in kgCO2e\n",
    "    return {'embodied':e_emissions, 'operational':o_emissions}\n"
   ]
  },
  {
   "cell_type": "code",
   "execution_count": 11,
   "metadata": {},
   "outputs": [
    {
     "data": {
      "text/plain": [
       "{'embodied': 76310.75267732216, 'operational': 20318.918160859637}"
      ]
     },
     "execution_count": 11,
     "metadata": {},
     "output_type": "execute_result"
    }
   ],
   "source": [
    "build_houses(n=1, o_factor=emit_o.loc[2023,'detached_gju']*10**3, e_params=embodied_params_exp_norm['Single Family'])"
   ]
  },
  {
   "cell_type": "markdown",
   "metadata": {},
   "source": [
    "Extend this function to allow for control over the percentage of L,M,H housing type mix built in the time period."
   ]
  },
  {
   "cell_type": "code",
   "execution_count": 12,
   "metadata": {},
   "outputs": [],
   "source": [
    "def get_operational_factor(operational_df, year):\n",
    "    \"\"\"\n",
    "    Function returns the lmh\n",
    "    CO2e/unit factor from imported operational\n",
    "    emissions data for easy input into functions.\n",
    "    operational_df = import_emission_data() output [1]\n",
    "    year = year int\n",
    "    \"\"\"\n",
    "    o_dict = dict(zip(['Single Family','Missing Middle','Mid High Rise'], \n",
    "                        operational_df.loc[year,['detached_gju','attached_gju','apartment_gju']].values*10**3))\n",
    "    \n",
    "    return o_dict\n",
    "    "
   ]
  },
  {
   "cell_type": "code",
   "execution_count": 13,
   "metadata": {},
   "outputs": [
    {
     "data": {
      "text/plain": [
       "{'Single Family': 20318.918160859637,\n",
       " 'Missing Middle': 2457.3706582948953,\n",
       " 'Mid High Rise': 1125.0579625281252}"
      ]
     },
     "execution_count": 13,
     "metadata": {},
     "output_type": "execute_result"
    }
   ],
   "source": [
    "get_operational_factor(emit_o, 2023)"
   ]
  },
  {
   "cell_type": "code",
   "execution_count": 14,
   "metadata": {},
   "outputs": [],
   "source": [
    "def split_n_lmh(n, l=0.09, m=0.24, h=0.67):\n",
    "    \"\"\"\n",
    "    splits # built n into the three proportions of\n",
    "    l (single family), m (low-rise multi-unit), \n",
    "    h (mid high rise). Rounding up.\n",
    "    \"\"\"\n",
    "    lmh = ['Single Family','Missing Middle','Mid High Rise']\n",
    "    # get n for each type\n",
    "    n_l = int(np.ceil(n*l))\n",
    "    n_m = int(np.ceil(n*m))\n",
    "    n_h = int(np.ceil(n*h))\n",
    "    n_dict = dict(zip(lmh,[n_l,n_m,n_h]))\n",
    "\n",
    "    return n_dict"
   ]
  },
  {
   "cell_type": "markdown",
   "metadata": {},
   "source": [
    "Functions gets operational and embodied seperately for lmh"
   ]
  },
  {
   "cell_type": "code",
   "execution_count": 15,
   "metadata": {},
   "outputs": [],
   "source": [
    "def build_embodied_lmh(n, e_params_dict, e_dist=stats.exponnorm, l=0.09, m=0.24, h=0.67):\n",
    "    \"\"\"\n",
    "    Extend build_embodied to allow for control of\n",
    "    percentage of housing types built \n",
    "    (single family, low-rise multi-unit, mid/high rise)\n",
    "\n",
    "    dict form -> {'Single Family','Missing Middle','Mid High Rise'}\n",
    "    e_params_dict = full dict from embodied_params_exp_norm\n",
    "    \"\"\"\n",
    "    lmh = ['Single Family','Missing Middle','Mid High Rise']\n",
    "\n",
    "    # split n\n",
    "    n_dict = split_n_lmh(n, l, m, h)\n",
    "\n",
    "    lmh_embodied = {}\n",
    "    for h_type in lmh:\n",
    "        b = build_embodied(n=n_dict[h_type], \n",
    "                           e_params=e_params_dict[h_type],\n",
    "                           e_dist=e_dist)\n",
    "        # add n_dict to the output\n",
    "        #lmh_embodied['built'] = n_dict[h_type]\n",
    "        lmh_embodied[h_type] = b\n",
    "\n",
    "    return lmh_embodied\n",
    "\n",
    "\n",
    "def build_operational_lmh(n, o_factor_dict, l=0.09, m=0.24, h=0.67):\n",
    "    \"\"\"\n",
    "    Extend build_operational to allow for control of\n",
    "    percentage of housing types built \n",
    "    (single family, low-rise multi-unit, mid/high rise)\n",
    "\n",
    "    dict form -> {'Single Family','Missing Middle','Mid High Rise'}\n",
    "    o_factor_dict = dictionary of operational factors\n",
    "    \"\"\"\n",
    "    lmh = ['Single Family','Missing Middle','Mid High Rise']\n",
    "\n",
    "    # split n\n",
    "    n_dict = split_n_lmh(n, l, m, h)\n",
    "\n",
    "    lmh_operational = {}\n",
    "    for h_type in lmh:\n",
    "        b = build_operational(n=n_dict[h_type],\n",
    "                              o_factor=o_factor_dict[h_type])\n",
    "        # add n_dict to the output\n",
    "        lmh_operational[h_type] = b\n",
    "\n",
    "    return lmh_operational"
   ]
  },
  {
   "cell_type": "code",
   "execution_count": 16,
   "metadata": {},
   "outputs": [
    {
     "data": {
      "text/plain": [
       "{'Single Family': 115897.46393369412,\n",
       " 'Missing Middle': 108233.95293118658,\n",
       " 'Mid High Rise': 169007.55972245854}"
      ]
     },
     "execution_count": 16,
     "metadata": {},
     "output_type": "execute_result"
    }
   ],
   "source": [
    "build_embodied_lmh(n=10, e_params_dict=embodied_params_exp_norm)"
   ]
  },
  {
   "cell_type": "code",
   "execution_count": 17,
   "metadata": {},
   "outputs": [
    {
     "data": {
      "text/plain": [
       "{'Single Family': 20318.918160859637,\n",
       " 'Missing Middle': 7372.111974884686,\n",
       " 'Mid High Rise': 7875.405737696877}"
      ]
     },
     "execution_count": 17,
     "metadata": {},
     "output_type": "execute_result"
    }
   ],
   "source": [
    "build_operational_lmh(n=10, o_factor_dict=get_operational_factor(emit_o, 2023))"
   ]
  },
  {
   "cell_type": "markdown",
   "metadata": {},
   "source": [
    "This function combines operational and embodied"
   ]
  },
  {
   "cell_type": "code",
   "execution_count": 18,
   "metadata": {},
   "outputs": [],
   "source": [
    "def build_houses_lmh(n, o_factor_dict, e_params_dict, e_dist=stats.exponnorm, l=0.09, m=0.24, h=0.67):\n",
    "    \"\"\"\n",
    "    Extend build_houses to allow for control of\n",
    "    percentage of housing types built \n",
    "    (single family, low-rise multi-unit, mid/high rise)\n",
    "\n",
    "    dict form -> {'Single Family','Missing Middle','Mid High Rise'}\n",
    "    o_factor_dict = dictionary of operational factors \n",
    "    e_params_dict = full dict from embodied_params_exp_norm\n",
    "    \"\"\"\n",
    "    lmh = ['Single Family','Missing Middle','Mid High Rise']\n",
    "    #np.random.seed(seed=1614)\n",
    "\n",
    "    # get n for each type\n",
    "    n_dict = split_n_lmh(n, l, m ,h)\n",
    "    \n",
    "    # build each type and return emissions, store in nested type dict\n",
    "    lmh_emissions = {}\n",
    "    for h_type in lmh:\n",
    "        b = build_houses(n=n_dict[h_type], \n",
    "                         o_factor=o_factor_dict[h_type], \n",
    "                         e_params=e_params_dict[h_type],\n",
    "                         e_dist=e_dist)\n",
    "        # add n_dict to the output\n",
    "        b['built'] = n_dict[h_type]\n",
    "        lmh_emissions[h_type] = b\n",
    "\n",
    "    return lmh_emissions\n"
   ]
  },
  {
   "cell_type": "code",
   "execution_count": 19,
   "metadata": {},
   "outputs": [
    {
     "data": {
      "text/plain": [
       "{'Single Family': {'embodied': 65359.6360470026,\n",
       "  'operational': 20318.918160859637,\n",
       "  'built': 1},\n",
       " 'Missing Middle': {'embodied': 49636.81292742955,\n",
       "  'operational': 7372.111974884686,\n",
       "  'built': 3},\n",
       " 'Mid High Rise': {'embodied': 202327.1823406137,\n",
       "  'operational': 7875.405737696877,\n",
       "  'built': 7}}"
      ]
     },
     "execution_count": 19,
     "metadata": {},
     "output_type": "execute_result"
    }
   ],
   "source": [
    "foo = build_houses_lmh(n=10, \n",
    "                       o_factor_dict=get_operational_factor(emit_o, 2023), \n",
    "                       e_params_dict=embodied_params_exp_norm)\n",
    "\n",
    "foo"
   ]
  },
  {
   "cell_type": "markdown",
   "metadata": {},
   "source": [
    "### Yearly CHAINING \n",
    "together years requires carry over of operational multiplied by the reduction factor from the base year. It also requires clean imports every year.\n",
    "<br>\n",
    "- For operational emissions, we just need the base year factors (2023). These can be multiplied by the percent_reduction_operational() frame each year to reduce the emissions\n",
    "- For embodied, we just calculate and store them every year"
   ]
  },
  {
   "cell_type": "code",
   "execution_count": 20,
   "metadata": {},
   "outputs": [],
   "source": [
    "def chain_periods_build_lmh(y, b, e_data, o_data, verbose=False):\n",
    "    \"\"\"\n",
    "    chain together multiple time periods of the simulation\n",
    "    (e.g. years), store cumulative emissions, calculate \n",
    "    the continued operational output with the delta reduction\n",
    "    each year.\n",
    "    y = vector of time periods.\n",
    "    b = vector of # of houses built in time period.\n",
    "    e_data = embodied emissions data (labelled by year)\n",
    "    o_data = operational emissions data (labelled by year)\n",
    "    crn = common random numbers (default false)\n",
    "    verbose = extra text outputs\n",
    "    \"\"\"\n",
    "    # setup for storing variables\n",
    "    raw = []\n",
    "    embodied = []\n",
    "    operational = [] # energy from houses built in current AND previous years.\n",
    "    built = []\n",
    "\n",
    "    # counting built\n",
    "    nl_cum = 0\n",
    "    nm_cum = 0\n",
    "    nh_cum = 0\n",
    "\n",
    "    # for each year\n",
    "    for en, i in enumerate(y):\n",
    "        # FIT INPUT DATA\n",
    "        # MLE for embodied, factor for operational\n",
    "        embodied_params_y = embodied_fitter_mle(data=e_data.loc[e_data['year']==i])\n",
    "        operational_factor = get_operational_factor(o_data, i)\n",
    "\n",
    "        # get the number of starts for each housing type\n",
    "        n_lmh_i = split_n_lmh(b[en], l=0.09, m=0.24, h=0.67)\n",
    "\n",
    "\n",
    "        # BUILD HOUSES, CALC PERFORMANCE VARIABLES\n",
    "        # embodied emissions for the given year\n",
    "        embodied_i = build_embodied_lmh(n=b[en], e_params_dict=embodied_params_y)\n",
    "\n",
    "        # operational emissions of cumulative houses built ##########\n",
    "        # energy emissions from houses built this year.\n",
    "        operational_i = build_operational_lmh(n=b[en], o_factor_dict=operational_factor)\n",
    "        # energy emissions from houses built in previous years.\n",
    "        operational_cum_l =  build_operational(nl_cum, operational_factor['Single Family'])\n",
    "        operational_cum_m =  build_operational(nm_cum, operational_factor['Missing Middle'])\n",
    "        operational_cum_h =  build_operational(nh_cum, operational_factor['Mid High Rise'])\n",
    "\n",
    "        if verbose == True:\n",
    "            print('year', i)\n",
    "            print('nlcum', nl_cum)\n",
    "            print('opi', operational_i)\n",
    "            print('opm', operational_cum_m)\n",
    "\n",
    "\n",
    "        # STORE OUTPUTS\n",
    "        # full data\n",
    "        raw.append({'year':i,\n",
    "                    'embodied':embodied_i, \n",
    "                    'operational_y':operational_i,\n",
    "                    'operational_cum':operational_i['Single Family']+operational_i['Missing Middle']+operational_i['Mid High Rise']+\n",
    "                           operational_cum_l+operational_cum_m+operational_cum_h,\n",
    "                    'num_built':n_lmh_i})\n",
    "\n",
    "        # emissions each year\n",
    "        embodied.append(embodied_i['Single Family']+embodied_i['Missing Middle']+embodied_i['Mid High Rise'])\n",
    "        operational.append(operational_i['Single Family']+operational_i['Missing Middle']+operational_i['Mid High Rise']+\n",
    "                           operational_cum_l+operational_cum_m+operational_cum_h)\n",
    "\n",
    "        # number built\n",
    "        built.append(n_lmh_i['Single Family'] + n_lmh_i['Missing Middle'] + n_lmh_i['Mid High Rise'])\n",
    "        # broken down by type for energy calculation\n",
    "        nl_cum += n_lmh_i['Single Family']\n",
    "        nm_cum += n_lmh_i['Missing Middle']\n",
    "        nh_cum += n_lmh_i['Mid High Rise']\n",
    "\n",
    "        \n",
    "        print(operational)\n",
    "\n",
    "    \n",
    "    return (raw, embodied, operational, built)\n"
   ]
  },
  {
   "cell_type": "code",
   "execution_count": 21,
   "metadata": {},
   "outputs": [
    {
     "name": "stdout",
     "output_type": "stream",
     "text": [
      "year 2023\n",
      "nlcum 0\n",
      "opi {'Single Family': 182870.26344773674, 'Missing Middle': 58976.89579907749, 'Mid High Rise': 75378.88348938439}\n",
      "opm 0.0\n",
      "[317226.04273619864]\n",
      "year 2024\n",
      "nlcum 9\n",
      "opi {'Single Family': 1688331.0875288984, 'Missing Middle': 536100.5090577394, 'Mid High Rise': 649216.0201728678}\n",
      "opm 53610.05090577394\n",
      "[317226.04273619864, 3161012.378435456]\n"
     ]
    }
   ],
   "source": [
    "output = chain_periods_build_lmh([2023,2024], [100,1000], emit_e, emit_o, verbose=True)"
   ]
  },
  {
   "cell_type": "code",
   "execution_count": 22,
   "metadata": {},
   "outputs": [
    {
     "data": {
      "text/plain": [
       "[317226.04273619864, 3161012.378435456]"
      ]
     },
     "execution_count": 22,
     "metadata": {},
     "output_type": "execute_result"
    }
   ],
   "source": [
    "#pd.concat([pd.DataFrame(r) for r in raw], axis=0)\n",
    "#np.sum(output[3])\n",
    "output[2]"
   ]
  },
  {
   "cell_type": "code",
   "execution_count": 23,
   "metadata": {},
   "outputs": [
    {
     "data": {
      "text/plain": [
       "99"
      ]
     },
     "execution_count": 23,
     "metadata": {},
     "output_type": "execute_result"
    }
   ],
   "source": [
    "np.sum([o['num_built']['Single Family'] for o in output[0]])"
   ]
  },
  {
   "cell_type": "markdown",
   "metadata": {},
   "source": [
    "## Final\n",
    "The above code is enough to run the basic sim. I transport this to a object structure to make it easier to run and to reduce input complexity. The class(es) are under packages/project_packages. This file can now be used for simulation experiments"
   ]
  },
  {
   "cell_type": "code",
   "execution_count": 24,
   "metadata": {},
   "outputs": [],
   "source": [
    "from packages.project_package.mie_importer import *\n",
    "from packages.project_package.mie_simulation import *"
   ]
  },
  {
   "cell_type": "code",
   "execution_count": 25,
   "metadata": {},
   "outputs": [
    {
     "name": "stdout",
     "output_type": "stream",
     "text": [
      "Importer created.\n",
      "Sim object created. Initialize self.e_data and self.o_data\n"
     ]
    }
   ],
   "source": [
    "proj_importer = MIEImporter()\n",
    "proj_simulator = MIESimulation()"
   ]
  },
  {
   "cell_type": "code",
   "execution_count": 26,
   "metadata": {},
   "outputs": [],
   "source": [
    "data_embodied, data_operational = proj_importer.import_emission_data()"
   ]
  },
  {
   "cell_type": "code",
   "execution_count": 27,
   "metadata": {},
   "outputs": [],
   "source": [
    "proj_simulator.e_data = data_embodied\n",
    "proj_simulator.o_data = data_operational\n",
    "\n",
    "foo2 = proj_simulator.chain_periods_build_lmh([2023,2024], [100,1000])"
   ]
  },
  {
   "cell_type": "code",
   "execution_count": 28,
   "metadata": {},
   "outputs": [
    {
     "data": {
      "text/plain": [
       "[317226.04273619864, 3161012.378435456]"
      ]
     },
     "execution_count": 28,
     "metadata": {},
     "output_type": "execute_result"
    }
   ],
   "source": [
    "foo2['E_o']"
   ]
  }
 ],
 "metadata": {
  "kernelspec": {
   "display_name": "base",
   "language": "python",
   "name": "python3"
  },
  "language_info": {
   "codemirror_mode": {
    "name": "ipython",
    "version": 3
   },
   "file_extension": ".py",
   "mimetype": "text/x-python",
   "name": "python",
   "nbconvert_exporter": "python",
   "pygments_lexer": "ipython3",
   "version": "3.9.12"
  }
 },
 "nbformat": 4,
 "nbformat_minor": 2
}
