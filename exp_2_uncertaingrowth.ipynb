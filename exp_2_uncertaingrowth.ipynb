{
 "cells": [
  {
   "cell_type": "markdown",
   "metadata": {},
   "source": [
    "# MIE1613 Project Experiment #2 - Uncertain Growth\n",
    "Here I use the simulation to answer question 1 of the report: <i>how might uncertain housing growth affect emissions?</i>"
   ]
  },
  {
   "cell_type": "code",
   "execution_count": 2,
   "metadata": {},
   "outputs": [
    {
     "name": "stderr",
     "output_type": "stream",
     "text": [
      "c:\\Users\\Keagan Rankin\\anaconda3\\lib\\site-packages\\pandas\\core\\computation\\expressions.py:21: UserWarning: Pandas requires version '2.8.4' or newer of 'numexpr' (version '2.8.1' currently installed).\n",
      "  from pandas.core.computation.check import NUMEXPR_INSTALLED\n",
      "c:\\Users\\Keagan Rankin\\anaconda3\\lib\\site-packages\\pandas\\core\\arrays\\masked.py:60: UserWarning: Pandas requires version '1.3.6' or newer of 'bottleneck' (version '1.3.4' currently installed).\n",
      "  from pandas.core import (\n"
     ]
    }
   ],
   "source": [
    "# Import Libraries\n",
    "# Data\n",
    "import numpy as np\n",
    "import scipy as sp\n",
    "from scipy import stats\n",
    "import pandas as pd\n",
    "import random\n",
    "\n",
    "import re\n",
    "from copy import deepcopy\n",
    "#from tqdm import tqdm\n",
    "import tqdm.notebook as tq\n",
    "\n",
    "#Viz\n",
    "import matplotlib.pyplot as plt\n",
    "import matplotlib.ticker as ticker\n",
    "import matplotlib.gridspec as gridspec\n",
    "import seaborn as sns\n",
    "sns.set(font='Helvetica') # Futura? Calibri Light? \n",
    "sns.set_style(\"white\")\n",
    "sns.set_theme(style='ticks')\n",
    "sns.set_context('talk')"
   ]
  },
  {
   "cell_type": "markdown",
   "metadata": {},
   "source": [
    "## Import\n",
    "The simulation object and the required input data (emissions data and housing sample paths) <br>\n",
    "<b> Important </b> -> the importer factor range is modified for sensitivity analysis: there are three values: min, most likely, max."
   ]
  },
  {
   "cell_type": "code",
   "execution_count": 3,
   "metadata": {},
   "outputs": [],
   "source": [
    "# Simulation object\n",
    "from packages.project_package.mie_importer import *\n",
    "from packages.project_package.mie_simulation import *"
   ]
  },
  {
   "cell_type": "code",
   "execution_count": 9,
   "metadata": {},
   "outputs": [
    {
     "name": "stdout",
     "output_type": "stream",
     "text": [
      "Importer created. Change self.factor_range for sensitivity analysis before importing.\n"
     ]
    }
   ],
   "source": [
    "# Emissions data\n",
    "Impr = MIEImporter()\n",
    "Impr.factor_range = 'likely'\n",
    "Impr.e_path = 'data/input_data/embodied_'+Impr.factor_range+'.csv'\n",
    "embodied_data, operational_data = Impr.import_emission_data()\n",
    "\n",
    "# Housing sample paths: 6000 exist for each scenario.\n",
    "starts_data_lg3 = pd.read_csv('data/input_data/starts_samplepaths_bayesian_lg3.csv', index_col=0)\n",
    "starts_data_mg6 = pd.read_csv('data/input_data/starts_samplepaths_bayesian_mg6.csv', index_col=0)\n",
    "starts_data_hg10 = pd.read_csv('data/input_data/starts_samplepaths_bayesian_hg10.csv', index_col=0)"
   ]
  },
  {
   "cell_type": "code",
   "execution_count": 5,
   "metadata": {},
   "outputs": [
    {
     "data": {
      "text/html": [
       "<div>\n",
       "<style scoped>\n",
       "    .dataframe tbody tr th:only-of-type {\n",
       "        vertical-align: middle;\n",
       "    }\n",
       "\n",
       "    .dataframe tbody tr th {\n",
       "        vertical-align: top;\n",
       "    }\n",
       "\n",
       "    .dataframe thead th {\n",
       "        text-align: right;\n",
       "    }\n",
       "</style>\n",
       "<table border=\"1\" class=\"dataframe\">\n",
       "  <thead>\n",
       "    <tr style=\"text-align: right;\">\n",
       "      <th></th>\n",
       "      <th>GHG Quantity 1 Most Likely</th>\n",
       "      <th>Units</th>\n",
       "      <th>mm_split_labels</th>\n",
       "      <th>labels_general</th>\n",
       "      <th>ghg_per_unit</th>\n",
       "      <th>year</th>\n",
       "    </tr>\n",
       "    <tr>\n",
       "      <th>Building Key</th>\n",
       "      <th></th>\n",
       "      <th></th>\n",
       "      <th></th>\n",
       "      <th></th>\n",
       "      <th></th>\n",
       "      <th></th>\n",
       "    </tr>\n",
       "  </thead>\n",
       "  <tbody>\n",
       "    <tr>\n",
       "      <th>1</th>\n",
       "      <td>91893.92546</td>\n",
       "      <td>1</td>\n",
       "      <td>Single Family</td>\n",
       "      <td>Single Family</td>\n",
       "      <td>91893.925460</td>\n",
       "      <td>2023</td>\n",
       "    </tr>\n",
       "    <tr>\n",
       "      <th>2</th>\n",
       "      <td>33548.45396</td>\n",
       "      <td>1</td>\n",
       "      <td>Single Family</td>\n",
       "      <td>Single Family</td>\n",
       "      <td>33548.453960</td>\n",
       "      <td>2023</td>\n",
       "    </tr>\n",
       "    <tr>\n",
       "      <th>3</th>\n",
       "      <td>57770.70681</td>\n",
       "      <td>1</td>\n",
       "      <td>Single Family</td>\n",
       "      <td>Single Family</td>\n",
       "      <td>57770.706810</td>\n",
       "      <td>2023</td>\n",
       "    </tr>\n",
       "    <tr>\n",
       "      <th>4</th>\n",
       "      <td>33738.06211</td>\n",
       "      <td>1</td>\n",
       "      <td>Single Family</td>\n",
       "      <td>Single Family</td>\n",
       "      <td>33738.062110</td>\n",
       "      <td>2023</td>\n",
       "    </tr>\n",
       "    <tr>\n",
       "      <th>7</th>\n",
       "      <td>51151.74255</td>\n",
       "      <td>1</td>\n",
       "      <td>Single Family</td>\n",
       "      <td>Single Family</td>\n",
       "      <td>51151.742550</td>\n",
       "      <td>2023</td>\n",
       "    </tr>\n",
       "    <tr>\n",
       "      <th>...</th>\n",
       "      <td>...</td>\n",
       "      <td>...</td>\n",
       "      <td>...</td>\n",
       "      <td>...</td>\n",
       "      <td>...</td>\n",
       "      <td>...</td>\n",
       "    </tr>\n",
       "    <tr>\n",
       "      <th>86</th>\n",
       "      <td>339200.00000</td>\n",
       "      <td>210</td>\n",
       "      <td>Mid High Rise</td>\n",
       "      <td>Mid High Rise</td>\n",
       "      <td>1722.020933</td>\n",
       "      <td>2050</td>\n",
       "    </tr>\n",
       "    <tr>\n",
       "      <th>87</th>\n",
       "      <td>339200.00000</td>\n",
       "      <td>545</td>\n",
       "      <td>Mid High Rise</td>\n",
       "      <td>Mid High Rise</td>\n",
       "      <td>724.040889</td>\n",
       "      <td>2050</td>\n",
       "    </tr>\n",
       "    <tr>\n",
       "      <th>90</th>\n",
       "      <td>339200.00000</td>\n",
       "      <td>363</td>\n",
       "      <td>Mid High Rise</td>\n",
       "      <td>Mid High Rise</td>\n",
       "      <td>1008.887860</td>\n",
       "      <td>2050</td>\n",
       "    </tr>\n",
       "    <tr>\n",
       "      <th>92</th>\n",
       "      <td>339200.00000</td>\n",
       "      <td>451</td>\n",
       "      <td>Mid High Rise</td>\n",
       "      <td>Mid High Rise</td>\n",
       "      <td>865.388005</td>\n",
       "      <td>2050</td>\n",
       "    </tr>\n",
       "    <tr>\n",
       "      <th>93</th>\n",
       "      <td>339200.00000</td>\n",
       "      <td>694</td>\n",
       "      <td>Mid High Rise</td>\n",
       "      <td>Mid High Rise</td>\n",
       "      <td>590.353796</td>\n",
       "      <td>2050</td>\n",
       "    </tr>\n",
       "  </tbody>\n",
       "</table>\n",
       "<p>2856 rows × 6 columns</p>\n",
       "</div>"
      ],
      "text/plain": [
       "              GHG Quantity 1 Most Likely  Units mm_split_labels  \\\n",
       "Building Key                                                      \n",
       "1                            91893.92546      1   Single Family   \n",
       "2                            33548.45396      1   Single Family   \n",
       "3                            57770.70681      1   Single Family   \n",
       "4                            33738.06211      1   Single Family   \n",
       "7                            51151.74255      1   Single Family   \n",
       "...                                  ...    ...             ...   \n",
       "86                          339200.00000    210   Mid High Rise   \n",
       "87                          339200.00000    545   Mid High Rise   \n",
       "90                          339200.00000    363   Mid High Rise   \n",
       "92                          339200.00000    451   Mid High Rise   \n",
       "93                          339200.00000    694   Mid High Rise   \n",
       "\n",
       "             labels_general  ghg_per_unit  year  \n",
       "Building Key                                     \n",
       "1             Single Family  91893.925460  2023  \n",
       "2             Single Family  33548.453960  2023  \n",
       "3             Single Family  57770.706810  2023  \n",
       "4             Single Family  33738.062110  2023  \n",
       "7             Single Family  51151.742550  2023  \n",
       "...                     ...           ...   ...  \n",
       "86            Mid High Rise   1722.020933  2050  \n",
       "87            Mid High Rise    724.040889  2050  \n",
       "90            Mid High Rise   1008.887860  2050  \n",
       "92            Mid High Rise    865.388005  2050  \n",
       "93            Mid High Rise    590.353796  2050  \n",
       "\n",
       "[2856 rows x 6 columns]"
      ]
     },
     "execution_count": 5,
     "metadata": {},
     "output_type": "execute_result"
    }
   ],
   "source": [
    "embodied_data"
   ]
  },
  {
   "cell_type": "code",
   "execution_count": 6,
   "metadata": {},
   "outputs": [
    {
     "name": "stdout",
     "output_type": "stream",
     "text": [
      "11172743.616850857\n",
      "12165049.381013427\n",
      "13371990.81042998\n"
     ]
    }
   ],
   "source": [
    "print(starts_data_lg3.sum(axis=1).mean())\n",
    "print(starts_data_mg6.sum(axis=1).mean())\n",
    "print(starts_data_hg10.sum(axis=1).mean())"
   ]
  },
  {
   "cell_type": "markdown",
   "metadata": {},
   "source": [
    "## Simulate\n",
    "Create an instance of the simulation object and run the simulation for all of the starts sample paths. Use common random numbers for each loop (the starts sample paths will be shared across each rep as well)."
   ]
  },
  {
   "cell_type": "code",
   "execution_count": 7,
   "metadata": {},
   "outputs": [
    {
     "name": "stdout",
     "output_type": "stream",
     "text": [
      "Sim object created. Initialize self.e_data and self.o_data\n"
     ]
    }
   ],
   "source": [
    "# init\n",
    "Simr = MIESimulation()\n",
    "Simr.e_data = embodied_data\n",
    "Simr.o_data = operational_data\n",
    "# share of low, middle, high: BAU construction in canada is around 40%, 30%, 30% (see FIG bau)\n",
    "Simr.nlmh = [0.4, 0.3, 0.3]"
   ]
  },
  {
   "cell_type": "code",
   "execution_count": 8,
   "metadata": {},
   "outputs": [
    {
     "name": "stdout",
     "output_type": "stream",
     "text": [
      "iter 0\n",
      "iter 1\n",
      "iter 2\n",
      "iter 3\n",
      "iter 4\n",
      "iter 5\n",
      "iter 6\n",
      "iter 7\n",
      "iter 8\n",
      "iter 9\n",
      "iter 10\n",
      "iter 11\n",
      "iter 12\n",
      "iter 13\n",
      "iter 14\n",
      "iter 15\n",
      "iter 16\n",
      "iter 17\n",
      "iter 18\n",
      "iter 19\n",
      "iter 20\n"
     ]
    },
    {
     "ename": "KeyboardInterrupt",
     "evalue": "",
     "output_type": "error",
     "traceback": [
      "\u001b[1;31m---------------------------------------------------------------------------\u001b[0m",
      "\u001b[1;31mKeyboardInterrupt\u001b[0m                         Traceback (most recent call last)",
      "Input \u001b[1;32mIn [8]\u001b[0m, in \u001b[0;36m<cell line: 21>\u001b[1;34m()\u001b[0m\n\u001b[0;32m     27\u001b[0m chain_i_lg \u001b[38;5;241m=\u001b[39m Simr\u001b[38;5;241m.\u001b[39mchain_periods_build_lmh(years, starts_i_lg, verbose\u001b[38;5;241m=\u001b[39m\u001b[38;5;28;01mFalse\u001b[39;00m)\n\u001b[0;32m     28\u001b[0m chain_i_mg \u001b[38;5;241m=\u001b[39m Simr\u001b[38;5;241m.\u001b[39mchain_periods_build_lmh(years, starts_i_mg, verbose\u001b[38;5;241m=\u001b[39m\u001b[38;5;28;01mFalse\u001b[39;00m)\n\u001b[1;32m---> 29\u001b[0m chain_i_hg \u001b[38;5;241m=\u001b[39m \u001b[43mSimr\u001b[49m\u001b[38;5;241;43m.\u001b[39;49m\u001b[43mchain_periods_build_lmh\u001b[49m\u001b[43m(\u001b[49m\u001b[43myears\u001b[49m\u001b[43m,\u001b[49m\u001b[43m \u001b[49m\u001b[43mstarts_i_hg\u001b[49m\u001b[43m,\u001b[49m\u001b[43m \u001b[49m\u001b[43mverbose\u001b[49m\u001b[38;5;241;43m=\u001b[39;49m\u001b[38;5;28;43;01mFalse\u001b[39;49;00m\u001b[43m)\u001b[49m\n\u001b[0;32m     31\u001b[0m \u001b[38;5;66;03m# store output\u001b[39;00m\n\u001b[0;32m     32\u001b[0m embodied_chains_lg\u001b[38;5;241m.\u001b[39mappend(np\u001b[38;5;241m.\u001b[39marray(chain_i_lg[\u001b[38;5;124m'\u001b[39m\u001b[38;5;124mE_e\u001b[39m\u001b[38;5;124m'\u001b[39m])\u001b[38;5;241m*\u001b[39m\u001b[38;5;241m1e-9\u001b[39m)\n",
      "File \u001b[1;32mc:\\Users\\Keagan Rankin\\OneDrive - University of Toronto\\PhD 1st Year\\Winter Courses\\stochastic sim\\project\\packages\\project_package\\mie_simulation.py:214\u001b[0m, in \u001b[0;36mMIESimulation.chain_periods_build_lmh\u001b[1;34m(self, y, b, verbose)\u001b[0m\n\u001b[0;32m    208\u001b[0m n_lmh_i \u001b[38;5;241m=\u001b[39m \u001b[38;5;28mself\u001b[39m\u001b[38;5;241m.\u001b[39msplit_n_lmh(n\u001b[38;5;241m=\u001b[39mb[en], \n\u001b[0;32m    209\u001b[0m                            l\u001b[38;5;241m=\u001b[39m\u001b[38;5;28mself\u001b[39m\u001b[38;5;241m.\u001b[39mnlmh[\u001b[38;5;241m0\u001b[39m], m\u001b[38;5;241m=\u001b[39m\u001b[38;5;28mself\u001b[39m\u001b[38;5;241m.\u001b[39mnlmh[\u001b[38;5;241m1\u001b[39m], h\u001b[38;5;241m=\u001b[39m\u001b[38;5;28mself\u001b[39m\u001b[38;5;241m.\u001b[39mnlmh[\u001b[38;5;241m2\u001b[39m])\n\u001b[0;32m    212\u001b[0m \u001b[38;5;66;03m# ---SIMULATE: BUILD HOUSES, CALC PERFORMANCE VARIABLES---\u001b[39;00m\n\u001b[0;32m    213\u001b[0m \u001b[38;5;66;03m# embodied emissions for the given year\u001b[39;00m\n\u001b[1;32m--> 214\u001b[0m embodied_i \u001b[38;5;241m=\u001b[39m \u001b[38;5;28;43mself\u001b[39;49m\u001b[38;5;241;43m.\u001b[39;49m\u001b[43mbuild_embodied_lmh\u001b[49m\u001b[43m(\u001b[49m\u001b[43mn\u001b[49m\u001b[38;5;241;43m=\u001b[39;49m\u001b[43mb\u001b[49m\u001b[43m[\u001b[49m\u001b[43men\u001b[49m\u001b[43m]\u001b[49m\u001b[43m,\u001b[49m\u001b[43m \u001b[49m\u001b[43me_params_dict\u001b[49m\u001b[38;5;241;43m=\u001b[39;49m\u001b[43membodied_params_i\u001b[49m\u001b[43m,\u001b[49m\n\u001b[0;32m    215\u001b[0m \u001b[43m                                     \u001b[49m\u001b[43mdistribution\u001b[49m\u001b[38;5;241;43m=\u001b[39;49m\u001b[38;5;28;43mself\u001b[39;49m\u001b[38;5;241;43m.\u001b[39;49m\u001b[43me_distribution\u001b[49m\u001b[43m,\u001b[49m\n\u001b[0;32m    216\u001b[0m \u001b[43m                                     \u001b[49m\u001b[43ml\u001b[49m\u001b[38;5;241;43m=\u001b[39;49m\u001b[38;5;28;43mself\u001b[39;49m\u001b[38;5;241;43m.\u001b[39;49m\u001b[43mnlmh\u001b[49m\u001b[43m[\u001b[49m\u001b[38;5;241;43m0\u001b[39;49m\u001b[43m]\u001b[49m\u001b[43m,\u001b[49m\u001b[43m \u001b[49m\u001b[43mm\u001b[49m\u001b[38;5;241;43m=\u001b[39;49m\u001b[38;5;28;43mself\u001b[39;49m\u001b[38;5;241;43m.\u001b[39;49m\u001b[43mnlmh\u001b[49m\u001b[43m[\u001b[49m\u001b[38;5;241;43m1\u001b[39;49m\u001b[43m]\u001b[49m\u001b[43m,\u001b[49m\u001b[43m \u001b[49m\u001b[43mh\u001b[49m\u001b[38;5;241;43m=\u001b[39;49m\u001b[38;5;28;43mself\u001b[39;49m\u001b[38;5;241;43m.\u001b[39;49m\u001b[43mnlmh\u001b[49m\u001b[43m[\u001b[49m\u001b[38;5;241;43m2\u001b[39;49m\u001b[43m]\u001b[49m\u001b[43m)\u001b[49m\n\u001b[0;32m    218\u001b[0m \u001b[38;5;66;03m# operational emissions of cumulative houses built this year. ##########\u001b[39;00m\n\u001b[0;32m    219\u001b[0m operational_i \u001b[38;5;241m=\u001b[39m \u001b[38;5;28mself\u001b[39m\u001b[38;5;241m.\u001b[39mbuild_operational_lmh(n\u001b[38;5;241m=\u001b[39mb[en], o_factor_dict\u001b[38;5;241m=\u001b[39moperational_factor_i,\n\u001b[0;32m    220\u001b[0m                                            l\u001b[38;5;241m=\u001b[39m\u001b[38;5;28mself\u001b[39m\u001b[38;5;241m.\u001b[39mnlmh[\u001b[38;5;241m0\u001b[39m], m\u001b[38;5;241m=\u001b[39m\u001b[38;5;28mself\u001b[39m\u001b[38;5;241m.\u001b[39mnlmh[\u001b[38;5;241m1\u001b[39m], h\u001b[38;5;241m=\u001b[39m\u001b[38;5;28mself\u001b[39m\u001b[38;5;241m.\u001b[39mnlmh[\u001b[38;5;241m2\u001b[39m])\n",
      "File \u001b[1;32mc:\\Users\\Keagan Rankin\\OneDrive - University of Toronto\\PhD 1st Year\\Winter Courses\\stochastic sim\\project\\packages\\project_package\\mie_simulation.py:139\u001b[0m, in \u001b[0;36mMIESimulation.build_embodied_lmh\u001b[1;34m(self, n, e_params_dict, distribution, l, m, h)\u001b[0m\n\u001b[0;32m    137\u001b[0m lmh_embodied \u001b[38;5;241m=\u001b[39m {}\n\u001b[0;32m    138\u001b[0m \u001b[38;5;28;01mfor\u001b[39;00m h_type \u001b[38;5;129;01min\u001b[39;00m \u001b[38;5;28mself\u001b[39m\u001b[38;5;241m.\u001b[39mlmh:\n\u001b[1;32m--> 139\u001b[0m     b \u001b[38;5;241m=\u001b[39m \u001b[38;5;28;43mself\u001b[39;49m\u001b[38;5;241;43m.\u001b[39;49m\u001b[43mbuild_embodied\u001b[49m\u001b[43m(\u001b[49m\u001b[43mn\u001b[49m\u001b[38;5;241;43m=\u001b[39;49m\u001b[43mn_dict\u001b[49m\u001b[43m[\u001b[49m\u001b[43mh_type\u001b[49m\u001b[43m]\u001b[49m\u001b[43m,\u001b[49m\u001b[43m \u001b[49m\n\u001b[0;32m    140\u001b[0m \u001b[43m                            \u001b[49m\u001b[43me_params\u001b[49m\u001b[38;5;241;43m=\u001b[39;49m\u001b[43me_params_dict\u001b[49m\u001b[43m[\u001b[49m\u001b[43mh_type\u001b[49m\u001b[43m]\u001b[49m\u001b[43m,\u001b[49m\n\u001b[0;32m    141\u001b[0m \u001b[43m                            \u001b[49m\u001b[43mdistribution\u001b[49m\u001b[38;5;241;43m=\u001b[39;49m\u001b[43mdistribution\u001b[49m\u001b[43m)\u001b[49m\n\u001b[0;32m    142\u001b[0m     \u001b[38;5;66;03m# add n_dict to the output\u001b[39;00m\n\u001b[0;32m    143\u001b[0m     \u001b[38;5;66;03m#lmh_embodied['built'] = n_dict[h_type]\u001b[39;00m\n\u001b[0;32m    144\u001b[0m     lmh_embodied[h_type] \u001b[38;5;241m=\u001b[39m b\n",
      "File \u001b[1;32mc:\\Users\\Keagan Rankin\\OneDrive - University of Toronto\\PhD 1st Year\\Winter Courses\\stochastic sim\\project\\packages\\project_package\\mie_simulation.py:90\u001b[0m, in \u001b[0;36mMIESimulation.build_embodied\u001b[1;34m(self, n, e_params, distribution)\u001b[0m\n\u001b[0;32m     82\u001b[0m \u001b[38;5;250m\u001b[39m\u001b[38;5;124;03m\"\"\"\u001b[39;00m\n\u001b[0;32m     83\u001b[0m \u001b[38;5;124;03mBuilding block function that calculates embodied\u001b[39;00m\n\u001b[0;32m     84\u001b[0m \u001b[38;5;124;03memissions from n constructed houses in time period T.\u001b[39;00m\n\u001b[1;32m   (...)\u001b[0m\n\u001b[0;32m     87\u001b[0m \u001b[38;5;124;03me_params = embodied distribution parameters\u001b[39;00m\n\u001b[0;32m     88\u001b[0m \u001b[38;5;124;03m\"\"\"\u001b[39;00m\n\u001b[0;32m     89\u001b[0m \u001b[38;5;66;03m# sample embodied\u001b[39;00m\n\u001b[1;32m---> 90\u001b[0m e_samples \u001b[38;5;241m=\u001b[39m \u001b[43mdistribution\u001b[49m\u001b[38;5;241;43m.\u001b[39;49m\u001b[43mrvs\u001b[49m\u001b[43m(\u001b[49m\u001b[38;5;241;43m*\u001b[39;49m\u001b[43me_params\u001b[49m\u001b[43m,\u001b[49m\u001b[43m \u001b[49m\u001b[43msize\u001b[49m\u001b[38;5;241;43m=\u001b[39;49m\u001b[43mn\u001b[49m\u001b[43m)\u001b[49m\n\u001b[0;32m     91\u001b[0m e_emissions \u001b[38;5;241m=\u001b[39m np\u001b[38;5;241m.\u001b[39msum(e_samples) \u001b[38;5;66;03m# sum of CO2e\u001b[39;00m\n\u001b[0;32m     93\u001b[0m \u001b[38;5;28;01mreturn\u001b[39;00m e_emissions\n",
      "File \u001b[1;32mc:\\Users\\Keagan Rankin\\anaconda3\\lib\\site-packages\\scipy\\stats\\_distn_infrastructure.py:1069\u001b[0m, in \u001b[0;36mrv_generic.rvs\u001b[1;34m(self, *args, **kwds)\u001b[0m\n\u001b[0;32m   1066\u001b[0m \u001b[38;5;28;01melse\u001b[39;00m:\n\u001b[0;32m   1067\u001b[0m     random_state \u001b[38;5;241m=\u001b[39m \u001b[38;5;28mself\u001b[39m\u001b[38;5;241m.\u001b[39m_random_state\n\u001b[1;32m-> 1069\u001b[0m vals \u001b[38;5;241m=\u001b[39m \u001b[38;5;28;43mself\u001b[39;49m\u001b[38;5;241;43m.\u001b[39;49m\u001b[43m_rvs\u001b[49m\u001b[43m(\u001b[49m\u001b[38;5;241;43m*\u001b[39;49m\u001b[43margs\u001b[49m\u001b[43m,\u001b[49m\u001b[43m \u001b[49m\u001b[43msize\u001b[49m\u001b[38;5;241;43m=\u001b[39;49m\u001b[43msize\u001b[49m\u001b[43m,\u001b[49m\u001b[43m \u001b[49m\u001b[43mrandom_state\u001b[49m\u001b[38;5;241;43m=\u001b[39;49m\u001b[43mrandom_state\u001b[49m\u001b[43m)\u001b[49m\n\u001b[0;32m   1071\u001b[0m vals \u001b[38;5;241m=\u001b[39m vals \u001b[38;5;241m*\u001b[39m scale \u001b[38;5;241m+\u001b[39m loc\n\u001b[0;32m   1073\u001b[0m \u001b[38;5;66;03m# do not forget to restore the _random_state\u001b[39;00m\n",
      "File \u001b[1;32mc:\\Users\\Keagan Rankin\\anaconda3\\lib\\site-packages\\scipy\\stats\\_continuous_distns.py:6480\u001b[0m, in \u001b[0;36mlognorm_gen._rvs\u001b[1;34m(self, s, size, random_state)\u001b[0m\n\u001b[0;32m   6479\u001b[0m \u001b[38;5;28;01mdef\u001b[39;00m \u001b[38;5;21m_rvs\u001b[39m(\u001b[38;5;28mself\u001b[39m, s, size\u001b[38;5;241m=\u001b[39m\u001b[38;5;28;01mNone\u001b[39;00m, random_state\u001b[38;5;241m=\u001b[39m\u001b[38;5;28;01mNone\u001b[39;00m):\n\u001b[1;32m-> 6480\u001b[0m     \u001b[38;5;28;01mreturn\u001b[39;00m np\u001b[38;5;241m.\u001b[39mexp(s \u001b[38;5;241m*\u001b[39m \u001b[43mrandom_state\u001b[49m\u001b[38;5;241;43m.\u001b[39;49m\u001b[43mstandard_normal\u001b[49m\u001b[43m(\u001b[49m\u001b[43msize\u001b[49m\u001b[43m)\u001b[49m)\n",
      "\u001b[1;31mKeyboardInterrupt\u001b[0m: "
     ]
    }
   ],
   "source": [
    "# Fix seed for common random numbers\n",
    "np.random.seed(Simr.seed)\n",
    "\n",
    "# Define outputs and chain length\n",
    "years = np.arange(2023, 2051)\n",
    "embodied_chains_lg = []\n",
    "operational_chains_lg = []\n",
    "built_chain_lg = []\n",
    "\n",
    "embodied_chains_mg = []\n",
    "operational_chains_mg = []\n",
    "built_chain_mg = []\n",
    "\n",
    "embodied_chains_hg = []\n",
    "operational_chains_hg = []\n",
    "built_chain_hg = []\n",
    "\n",
    "replications = 100\n",
    "\n",
    "# Simulation loop -> for low, medium, and high growth\n",
    "for i in range(replications):\n",
    "    print('iter',i)\n",
    "    starts_i_lg = starts_data_lg3.loc[i,'2023':'2050'].values.astype(int)\n",
    "    starts_i_mg = starts_data_mg6.loc[i,'2023':'2050'].values.astype(int)\n",
    "    starts_i_hg = starts_data_hg10.loc[i,'2023':'2050'].values.astype(int)\n",
    "\n",
    "    chain_i_lg = Simr.chain_periods_build_lmh(years, starts_i_lg, verbose=False)\n",
    "    chain_i_mg = Simr.chain_periods_build_lmh(years, starts_i_mg, verbose=False)\n",
    "    chain_i_hg = Simr.chain_periods_build_lmh(years, starts_i_hg, verbose=False)\n",
    "\n",
    "    # store output\n",
    "    embodied_chains_lg.append(np.array(chain_i_lg['E_e'])*1e-9)\n",
    "    operational_chains_lg.append(np.array(chain_i_lg['E_o'])*1e-9)\n",
    "    built_chain_lg.append(np.array(chain_i_lg['B']))\n",
    "\n",
    "    embodied_chains_mg.append(np.array(chain_i_mg['E_e'])*1e-9)\n",
    "    operational_chains_mg.append(np.array(chain_i_mg['E_o'])*1e-9)\n",
    "    built_chain_mg.append(np.array(chain_i_mg['B']))\n",
    "\n",
    "    embodied_chains_hg.append(np.array(chain_i_hg['E_e'])*1e-9)\n",
    "    operational_chains_hg.append(np.array(chain_i_hg['E_o'])*1e-9)\n",
    "    built_chain_hg.append(np.array(chain_i_hg['B']))"
   ]
  },
  {
   "cell_type": "markdown",
   "metadata": {},
   "source": [
    "## Outputs"
   ]
  },
  {
   "cell_type": "markdown",
   "metadata": {},
   "source": [
    "This big plot shows the full range of results for a likely emission factor scenario"
   ]
  },
  {
   "cell_type": "code",
   "execution_count": 9,
   "metadata": {},
   "outputs": [
    {
     "data": {
      "image/png": "[encoded data removed]",
      "text/plain": [
       "<Figure size 864x576 with 4 Axes>"
      ]
     },
     "metadata": {
      "needs_background": "light"
     },
     "output_type": "display_data"
    }
   ],
   "source": [
    "# Setup the figure and gridspec\n",
    "fig = plt.figure(figsize=(12, 8))\n",
    "gs = gridspec.GridSpec(3, 2, figure=fig, width_ratios=[1,2.2])\n",
    "\n",
    "# Add subplots\n",
    "ax1 = fig.add_subplot(gs[0, 0]) # First row, first column\n",
    "ax2 = fig.add_subplot(gs[1, 0]) # Second row, first column\n",
    "ax3 = fig.add_subplot(gs[2, 0])\n",
    "ax4 = fig.add_subplot(gs[:, 1]) # Both rows, second column\n",
    "axs = [ax1,ax2,ax3,ax4]\n",
    "\n",
    "#built_df = pd.DataFrame(np.array(built_chain_mg).T)\n",
    "#emb_chain_df = pd.DataFrame(np.array(embodied_chains_hg).T)\n",
    "#op_chain_df = pd.DataFrame(np.array(operational_chains_hg).T)\n",
    "\n",
    "built_df_l = [pd.DataFrame(np.array(built_chain_lg).T),pd.DataFrame(np.array(built_chain_mg).T),pd.DataFrame(np.array(built_chain_hg).T)]\n",
    "emb_chain_df_l = [pd.DataFrame(np.array(embodied_chains_lg).T),pd.DataFrame(np.array(embodied_chains_mg).T),pd.DataFrame(np.array(embodied_chains_hg).T)]\n",
    "op_chain_df_l = [pd.DataFrame(np.array(operational_chains_lg).T),pd.DataFrame(np.array(operational_chains_mg).T),pd.DataFrame(np.array(operational_chains_hg).T)]\n",
    "tot_chain_df_l = [e+o for (e,o) in zip(emb_chain_df_l, op_chain_df_l)]\n",
    "\n",
    "clrs = ['k','r','b','purple']\n",
    "\n",
    "for en, i_df in enumerate([built_df_l, emb_chain_df_l, op_chain_df_l, tot_chain_df_l]):\n",
    "    minr = i_df[0].min(axis=1)\n",
    "    maxr = i_df[2].max(axis=1)\n",
    "    meanr = np.array([i_df[0].mean(axis=1),i_df[1].mean(axis=1),i_df[2].mean(axis=1)]).mean(axis=0)\n",
    "\n",
    "    axs[en].fill_between(years, minr, maxr, color=clrs[en], alpha=0.2, linewidth=0)\n",
    "\n",
    "\n",
    "    axs[en].plot(years, meanr, color=clrs[en], alpha=0.9)\n",
    "\n",
    "y_lims = [[180000,400000],[-0.7,14.5], [-0.7,14.5], [-0.3,23.5]]\n",
    "titles = ['houses built','material emissions','energy emissions','total emissions']\n",
    "labs = ['built','MtCO$_2$e','MtCO$_2$e','MtCO$_2$e']\n",
    "for en, a in enumerate(axs):\n",
    "    a.set_ylim(y_lims[en])\n",
    "    #a.hlines(0, 2020, 2055)\n",
    "    a.set_xlabel('')\n",
    "    if en >=2:\n",
    "        a.set_xlabel('year')\n",
    "    a.set_ylabel(labs[en])\n",
    "    a.set_title(titles[en])\n",
    "\n",
    "#plt.suptitle('2023-2050 emissions - likely emission factors')\n",
    "plt.tight_layout()\n",
    "#plt.savefig('2023_2050_chain_results.png', bbox_inches='tight')"
   ]
  },
  {
   "cell_type": "code",
   "execution_count": null,
   "metadata": {},
   "outputs": [],
   "source": [
    "for en, i_df in enumerate([built_df, emb_chain_df, op_chain_df, tot_chain_df]):\n",
    "    minr = i_df.min(axis=1)\n",
    "    maxr = i_df.max(axis=1)\n",
    "    meanr = i_df.mean(axis=1)\n",
    "\n",
    "    axs[en].fill_between(years, minr, maxr, color=clrs[en], alpha=0.2, linewidth=0)\n",
    "    axs[en].plot(years, meanr, color=clrs[en], alpha=0.9)\n",
    "\n",
    "y_lims = [[-0.4,13.5], [-0.4,13.5], [-0.3,22]]\n",
    "titles = ['houses built','material emissions','energy emissions','total emissions']\n",
    "labs = ['built','MtCO$_2$e','MtCO$_2$e','MtCO$_2$e']\n",
    "for en, a in enumerate(axs):\n",
    "    #a.set_ylim(y_lims[en])\n",
    "    #a.hlines(0, 2020, 2055)\n",
    "    a.set_xlabel('')\n",
    "    if en >=2:\n",
    "        a.set_xlabel('year')\n",
    "    a.set_ylabel(labs[en])\n",
    "    a.set_title(titles[en])\n",
    "\n",
    "plt.tight_layout()"
   ]
  },
  {
   "cell_type": "code",
   "execution_count": 99,
   "metadata": {},
   "outputs": [
    {
     "data": {
      "text/plain": [
       "(300, 28)"
      ]
     },
     "execution_count": 99,
     "metadata": {},
     "output_type": "execute_result"
    }
   ],
   "source": [
    "np.array(embodied_chains_lg).shape"
   ]
  },
  {
   "cell_type": "markdown",
   "metadata": {},
   "source": [
    "## Analysis\n",
    "Summary statistics, looking at the different growth scenarios"
   ]
  },
  {
   "cell_type": "code",
   "execution_count": 89,
   "metadata": {},
   "outputs": [],
   "source": [
    "emission_sum_lg = np.sum(embodied_chains_lg, axis=1) + np.sum(operational_chains_lg, axis=1)\n",
    "emission_sum_mg = np.sum(embodied_chains_mg, axis=1) + np.sum(operational_chains_mg, axis=1)\n",
    "emission_sum_hg = np.sum(embodied_chains_hg, axis=1) + np.sum(operational_chains_hg, axis=1)"
   ]
  },
  {
   "cell_type": "code",
   "execution_count": 90,
   "metadata": {},
   "outputs": [
    {
     "name": "stdout",
     "output_type": "stream",
     "text": [
      "95% CI for mean cumulative emissions - LOW GROWTH: 283.96708796702455 +/- 1.3623104374442596\n",
      "95% CI for mean cumulative emissions - MEDIUM GROWTH: 290.6848894591736 +/- 1.4760447985194303\n",
      "95% CI for mean cumulative emissions - HIGH GROWTH: 296.1041531041049 +/- 1.5694345342533005\n"
     ]
    }
   ],
   "source": [
    "print('95% CI for mean cumulative emissions - LOW GROWTH:', np.mean(emission_sum_lg), \"+/-\",\n",
    "       1.96*np.std(emission_sum_lg, ddof = 1)/np.sqrt(replications))\n",
    "print('95% CI for mean cumulative emissions - MEDIUM GROWTH:', np.mean(emission_sum_mg), \"+/-\",\n",
    "       1.96*np.std(emission_sum_mg, ddof = 1)/np.sqrt(replications))\n",
    "print('95% CI for mean cumulative emissions - HIGH GROWTH:', np.mean(emission_sum_hg), \"+/-\",\n",
    "       1.96*np.std(emission_sum_hg, ddof = 1)/np.sqrt(replications))"
   ]
  },
  {
   "cell_type": "markdown",
   "metadata": {},
   "source": [
    "Save and export results to csv - total emissions sum"
   ]
  },
  {
   "cell_type": "code",
   "execution_count": 81,
   "metadata": {},
   "outputs": [],
   "source": [
    "np.savetxt(\"lg_403030_\"+Impr.factor_range+\"_300r.csv\", emission_sum_lg, delimiter=\",\")\n",
    "np.savetxt(\"mg_403030_\"+Impr.factor_range+\"_300r.csv\", emission_sum_mg, delimiter=\",\")\n",
    "np.savetxt(\"hg_403030_\"+Impr.factor_range+\"_300r.csv\", emission_sum_hg, delimiter=\",\")"
   ]
  },
  {
   "cell_type": "markdown",
   "metadata": {},
   "source": [
    "Save and export results to csv - embodied vs operational emissions sum"
   ]
  },
  {
   "cell_type": "code",
   "execution_count": 91,
   "metadata": {},
   "outputs": [],
   "source": [
    "np.savetxt(\"lg_emb_403030_\"+Impr.factor_range+\"_300r.csv\", np.sum(embodied_chains_lg, axis=1), delimiter=\",\")\n",
    "np.savetxt(\"mg_emb_403030_\"+Impr.factor_range+\"_300r.csv\", np.sum(embodied_chains_mg, axis=1), delimiter=\",\")\n",
    "np.savetxt(\"hg_emb_403030_\"+Impr.factor_range+\"_300r.csv\", np.sum(embodied_chains_hg, axis=1), delimiter=\",\")\n",
    "\n",
    "np.savetxt(\"lg_op_403030_\"+Impr.factor_range+\"_300r.csv\", np.sum(operational_chains_lg, axis=1), delimiter=\",\")\n",
    "np.savetxt(\"mg_op_403030_\"+Impr.factor_range+\"_300r.csv\", np.sum(operational_chains_mg, axis=1), delimiter=\",\")\n",
    "np.savetxt(\"hg_op_403030_\"+Impr.factor_range+\"_300r.csv\", np.sum(operational_chains_hg, axis=1), delimiter=\",\")"
   ]
  },
  {
   "cell_type": "markdown",
   "metadata": {},
   "source": [
    "Save a dataframe for recreating the figure above"
   ]
  },
  {
   "cell_type": "code",
   "execution_count": 37,
   "metadata": {},
   "outputs": [],
   "source": [
    "built_df_l[0]\n",
    "\n",
    "column_labs = ['built_lowest','built_highest','built_mean',\n",
    "               'embodied_lowest','embodied_highest','embodied_mean',\n",
    "               'operational_lowest','operational_highest','operational_mean',\n",
    "               'sum_lowest','sum_highest','sum_mean']\n",
    "\n",
    "column_vals = []\n",
    "for en, i_df in enumerate([built_df_l, emb_chain_df_l, op_chain_df_l, tot_chain_df_l]):\n",
    "    minr = i_df[0].min(axis=1).values\n",
    "    maxr = i_df[2].max(axis=1).values\n",
    "    meanr = np.array([i_df[0].mean(axis=1),i_df[1].mean(axis=1),i_df[2].mean(axis=1)]).mean(axis=0)\n",
    "    column_vals.append(minr)\n",
    "    column_vals.append(maxr)\n",
    "    column_vals.append(meanr)"
   ]
  },
  {
   "cell_type": "code",
   "execution_count": 38,
   "metadata": {},
   "outputs": [],
   "source": [
    "pd.DataFrame(data=np.array(column_vals).T, columns=column_labs, index=years).to_csv('chain_figure_likely_opti.csv')"
   ]
  }
 ],
 "metadata": {
  "kernelspec": {
   "display_name": "base",
   "language": "python",
   "name": "python3"
  },
  "language_info": {
   "codemirror_mode": {
    "name": "ipython",
    "version": 3
   },
   "file_extension": ".py",
   "mimetype": "text/x-python",
   "name": "python",
   "nbconvert_exporter": "python",
   "pygments_lexer": "ipython3",
   "version": "3.9.12"
  }
 },
 "nbformat": 4,
 "nbformat_minor": 2
}
