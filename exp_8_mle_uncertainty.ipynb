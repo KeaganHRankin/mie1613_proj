{
 "cells": [
  {
   "cell_type": "markdown",
   "metadata": {},
   "source": [
    "# MIE1613 Project Experiment #8 - Exploring input uncertainty in MLE on embodied emissions\n",
    "Here I use the simulation to further answer question 1: what kind of uncertainty is associated with the maximum likelyhood inference on the housing input data?"
   ]
  },
  {
   "cell_type": "code",
   "execution_count": 1,
   "metadata": {},
   "outputs": [
    {
     "name": "stderr",
     "output_type": "stream",
     "text": [
      "c:\\Users\\Keagan Rankin\\anaconda3\\lib\\site-packages\\pandas\\core\\computation\\expressions.py:21: UserWarning: Pandas requires version '2.8.4' or newer of 'numexpr' (version '2.8.1' currently installed).\n",
      "  from pandas.core.computation.check import NUMEXPR_INSTALLED\n",
      "c:\\Users\\Keagan Rankin\\anaconda3\\lib\\site-packages\\pandas\\core\\arrays\\masked.py:60: UserWarning: Pandas requires version '1.3.6' or newer of 'bottleneck' (version '1.3.4' currently installed).\n",
      "  from pandas.core import (\n"
     ]
    }
   ],
   "source": [
    "# Import Libraries\n",
    "# Data\n",
    "import numpy as np\n",
    "import scipy as sp\n",
    "from scipy import stats\n",
    "import pandas as pd\n",
    "import random\n",
    "\n",
    "import re\n",
    "from copy import deepcopy\n",
    "#from tqdm import tqdm\n",
    "import tqdm.notebook as tq\n",
    "\n",
    "#Viz\n",
    "import matplotlib.pyplot as plt\n",
    "import matplotlib.ticker as ticker\n",
    "import matplotlib.gridspec as gridspec\n",
    "import seaborn as sns\n",
    "sns.set(font='Helvetica') # Futura? Calibri Light? \n",
    "sns.set_style(\"white\")\n",
    "sns.set_theme(style='ticks')\n",
    "sns.set_context('talk')"
   ]
  },
  {
   "cell_type": "markdown",
   "metadata": {},
   "source": [
    "## Import\n",
    "want the input data for housing. We can look at max, min, and most likely factors. The years are not necessary as it is just multiplicative scaling"
   ]
  },
  {
   "cell_type": "code",
   "execution_count": 2,
   "metadata": {},
   "outputs": [],
   "source": [
    "from packages.project_package.mie_importer import *\n",
    "from packages.project_package.mie_simulation import *"
   ]
  },
  {
   "cell_type": "code",
   "execution_count": 216,
   "metadata": {},
   "outputs": [
    {
     "name": "stdout",
     "output_type": "stream",
     "text": [
      "Importer created. Change self.factor_range for sensitivity analysis before importing.\n"
     ]
    }
   ],
   "source": [
    "# Emissions data\n",
    "Impr = MIEImporter()\n",
    "Impr.factor_range = 'likely'\n",
    "\n",
    "Impr.e_path = 'data/input_data/embodied_'+Impr.factor_range+'_conservative.csv'\n",
    "Impr.o_path = 'data/input_data/operational_intensity_2020_2050_conservative.csv'\n",
    "embodied_data, operational_data = Impr.import_emission_data()\n",
    "starts_data_hg10 = pd.read_csv('data/input_data/starts_samplepaths_bayesian_hg10.csv', index_col=0)"
   ]
  },
  {
   "cell_type": "markdown",
   "metadata": {},
   "source": [
    "## Input Parameters\n",
    "Pick method from textbook/paper on quercus according to Vahid? My thought was boostrapping over the input data and fitting MLE many times to get a distribution of the parameters. <br>\n",
    "I have a nice function in the simulation object that fits MLE for all housing types that I can reuse, but it returns a three parameter fit and I only want two parameters -> $\\mu$ and $\\sigma$ = `log(scale)` and `shape`"
   ]
  },
  {
   "cell_type": "code",
   "execution_count": 156,
   "metadata": {},
   "outputs": [
    {
     "data": {
      "text/html": [
       "<div>\n",
       "<style scoped>\n",
       "    .dataframe tbody tr th:only-of-type {\n",
       "        vertical-align: middle;\n",
       "    }\n",
       "\n",
       "    .dataframe tbody tr th {\n",
       "        vertical-align: top;\n",
       "    }\n",
       "\n",
       "    .dataframe thead th {\n",
       "        text-align: right;\n",
       "    }\n",
       "</style>\n",
       "<table border=\"1\" class=\"dataframe\">\n",
       "  <thead>\n",
       "    <tr style=\"text-align: right;\">\n",
       "      <th></th>\n",
       "      <th>GHG Quantity 1 Most Likely</th>\n",
       "      <th>Units</th>\n",
       "      <th>mm_split_labels</th>\n",
       "      <th>labels_general</th>\n",
       "      <th>ghg_per_unit</th>\n",
       "      <th>year</th>\n",
       "    </tr>\n",
       "    <tr>\n",
       "      <th>Building Key</th>\n",
       "      <th></th>\n",
       "      <th></th>\n",
       "      <th></th>\n",
       "      <th></th>\n",
       "      <th></th>\n",
       "      <th></th>\n",
       "    </tr>\n",
       "  </thead>\n",
       "  <tbody>\n",
       "    <tr>\n",
       "      <th>1</th>\n",
       "      <td>8.162223e+04</td>\n",
       "      <td>1</td>\n",
       "      <td>Single Family</td>\n",
       "      <td>Single Family</td>\n",
       "      <td>81622.23285</td>\n",
       "      <td>2030</td>\n",
       "    </tr>\n",
       "    <tr>\n",
       "      <th>2</th>\n",
       "      <td>2.854891e+04</td>\n",
       "      <td>1</td>\n",
       "      <td>Single Family</td>\n",
       "      <td>Single Family</td>\n",
       "      <td>28548.91288</td>\n",
       "      <td>2030</td>\n",
       "    </tr>\n",
       "    <tr>\n",
       "      <th>3</th>\n",
       "      <td>4.946342e+04</td>\n",
       "      <td>1</td>\n",
       "      <td>Single Family</td>\n",
       "      <td>Single Family</td>\n",
       "      <td>49463.42403</td>\n",
       "      <td>2030</td>\n",
       "    </tr>\n",
       "    <tr>\n",
       "      <th>4</th>\n",
       "      <td>2.881597e+04</td>\n",
       "      <td>1</td>\n",
       "      <td>Single Family</td>\n",
       "      <td>Single Family</td>\n",
       "      <td>28815.97500</td>\n",
       "      <td>2030</td>\n",
       "    </tr>\n",
       "    <tr>\n",
       "      <th>7</th>\n",
       "      <td>4.555010e+04</td>\n",
       "      <td>1</td>\n",
       "      <td>Single Family</td>\n",
       "      <td>Single Family</td>\n",
       "      <td>45550.10087</td>\n",
       "      <td>2030</td>\n",
       "    </tr>\n",
       "    <tr>\n",
       "      <th>...</th>\n",
       "      <td>...</td>\n",
       "      <td>...</td>\n",
       "      <td>...</td>\n",
       "      <td>...</td>\n",
       "      <td>...</td>\n",
       "      <td>...</td>\n",
       "    </tr>\n",
       "    <tr>\n",
       "      <th>86</th>\n",
       "      <td>4.676437e+06</td>\n",
       "      <td>210</td>\n",
       "      <td>Mid High Rise</td>\n",
       "      <td>Mid High Rise</td>\n",
       "      <td>22268.74780</td>\n",
       "      <td>2030</td>\n",
       "    </tr>\n",
       "    <tr>\n",
       "      <th>87</th>\n",
       "      <td>1.107204e+07</td>\n",
       "      <td>545</td>\n",
       "      <td>Mid High Rise</td>\n",
       "      <td>Mid High Rise</td>\n",
       "      <td>20315.66555</td>\n",
       "      <td>2030</td>\n",
       "    </tr>\n",
       "    <tr>\n",
       "      <th>90</th>\n",
       "      <td>5.570730e+06</td>\n",
       "      <td>363</td>\n",
       "      <td>Mid High Rise</td>\n",
       "      <td>Mid High Rise</td>\n",
       "      <td>15346.36249</td>\n",
       "      <td>2030</td>\n",
       "    </tr>\n",
       "    <tr>\n",
       "      <th>92</th>\n",
       "      <td>1.021813e+07</td>\n",
       "      <td>451</td>\n",
       "      <td>Mid High Rise</td>\n",
       "      <td>Mid High Rise</td>\n",
       "      <td>22656.60719</td>\n",
       "      <td>2030</td>\n",
       "    </tr>\n",
       "    <tr>\n",
       "      <th>93</th>\n",
       "      <td>1.404598e+07</td>\n",
       "      <td>694</td>\n",
       "      <td>Mid High Rise</td>\n",
       "      <td>Mid High Rise</td>\n",
       "      <td>20239.16288</td>\n",
       "      <td>2030</td>\n",
       "    </tr>\n",
       "  </tbody>\n",
       "</table>\n",
       "<p>102 rows × 6 columns</p>\n",
       "</div>"
      ],
      "text/plain": [
       "              GHG Quantity 1 Most Likely  Units mm_split_labels  \\\n",
       "Building Key                                                      \n",
       "1                           8.162223e+04      1   Single Family   \n",
       "2                           2.854891e+04      1   Single Family   \n",
       "3                           4.946342e+04      1   Single Family   \n",
       "4                           2.881597e+04      1   Single Family   \n",
       "7                           4.555010e+04      1   Single Family   \n",
       "...                                  ...    ...             ...   \n",
       "86                          4.676437e+06    210   Mid High Rise   \n",
       "87                          1.107204e+07    545   Mid High Rise   \n",
       "90                          5.570730e+06    363   Mid High Rise   \n",
       "92                          1.021813e+07    451   Mid High Rise   \n",
       "93                          1.404598e+07    694   Mid High Rise   \n",
       "\n",
       "             labels_general  ghg_per_unit  year  \n",
       "Building Key                                     \n",
       "1             Single Family   81622.23285  2030  \n",
       "2             Single Family   28548.91288  2030  \n",
       "3             Single Family   49463.42403  2030  \n",
       "4             Single Family   28815.97500  2030  \n",
       "7             Single Family   45550.10087  2030  \n",
       "...                     ...           ...   ...  \n",
       "86            Mid High Rise   22268.74780  2030  \n",
       "87            Mid High Rise   20315.66555  2030  \n",
       "90            Mid High Rise   15346.36249  2030  \n",
       "92            Mid High Rise   22656.60719  2030  \n",
       "93            Mid High Rise   20239.16288  2030  \n",
       "\n",
       "[102 rows x 6 columns]"
      ]
     },
     "execution_count": 156,
     "metadata": {},
     "output_type": "execute_result"
    }
   ],
   "source": [
    "# Isolating the 2016 data\n",
    "emdata2030 = embodied_data.loc[embodied_data['year'] == 2030,:]\n",
    "emdata2030"
   ]
  },
  {
   "cell_type": "code",
   "execution_count": 217,
   "metadata": {},
   "outputs": [
    {
     "name": "stdout",
     "output_type": "stream",
     "text": [
      "Sim object created. Initialize self.e_data and self.o_data\n"
     ]
    }
   ],
   "source": [
    "# init simulator\n",
    "Simr = MIESimulation()\n",
    "Simr.nlmh = [0.4, 0.3, 0.3]\n",
    "Simr.year=2030\n",
    "Simr.e_data = embodied_data\n",
    "Simr.o_data = operational_data"
   ]
  },
  {
   "cell_type": "code",
   "execution_count": 218,
   "metadata": {},
   "outputs": [
    {
     "name": "stdout",
     "output_type": "stream",
     "text": [
      "(0.37458268993727106, 0, 53839.91453158643)\n"
     ]
    },
    {
     "data": {
      "text/plain": [
       "<Axes: ylabel='Density'>"
      ]
     },
     "execution_count": 218,
     "metadata": {},
     "output_type": "execute_result"
    },
    {
     "data": {
      "image/png": "[encoded data removed]",
      "text/plain": [
       "<Figure size 432x288 with 1 Axes>"
      ]
     },
     "metadata": {
      "needs_background": "light"
     },
     "output_type": "display_data"
    }
   ],
   "source": [
    "# test -> the base gives three parameters, whereas you can\n",
    "#np.random.seed(Simr.seed)\n",
    "# also ask for just two (mean+std). See if they correspond\n",
    "fig, ax = plt.subplots()\n",
    "# three params\n",
    "p = Simr.embodied_fitter_mle(emdata2030)\n",
    "params = p['Single Family']\n",
    "sns.kdeplot(stats.lognorm.rvs(*params, size=10000), ax=ax)\n",
    "\n",
    "# two params\n",
    "foodata = emdata2030.loc[emdata2030['mm_split_labels'] == 'Single Family']\n",
    "paramslo = stats.lognorm.fit(foodata['ghg_per_unit'], floc=0)\n",
    "print(paramslo)\n",
    "sns.kdeplot(stats.lognorm.rvs(*paramslo, size=10000), ax=ax)"
   ]
  },
  {
   "cell_type": "markdown",
   "metadata": {},
   "source": [
    "Create a function which returns this mean and st.dev for each housing type on the overall data"
   ]
  },
  {
   "cell_type": "code",
   "execution_count": 219,
   "metadata": {},
   "outputs": [],
   "source": [
    "def lognorm_fit_two_param(data):\n",
    "    parameters = {}\n",
    "    for house_type in Simr.lmh:\n",
    "        d_col = 'ghg_per_unit'\n",
    "        data_i = data.loc[data['labels_general']==house_type][d_col]\n",
    "        parameters[house_type] = stats.lognorm.fit(data_i, floc=0)\n",
    "\n",
    "    return parameters"
   ]
  },
  {
   "cell_type": "code",
   "execution_count": 220,
   "metadata": {},
   "outputs": [
    {
     "data": {
      "text/plain": [
       "{'Single Family': (0.37458268993727106, 0, 53839.91453158643),\n",
       " 'Missing Middle': (0.4816911358239958, 0, 20778.528726891458),\n",
       " 'Mid High Rise': (0.3109002813989817, 0, 20916.939174096482)}"
      ]
     },
     "execution_count": 220,
     "metadata": {},
     "output_type": "execute_result"
    }
   ],
   "source": [
    "lognorm_fit_two_param(emdata2030)"
   ]
  },
  {
   "cell_type": "markdown",
   "metadata": {},
   "source": [
    "## Uncertainty Method\n",
    "I follow Montegomery's (2009) random effect's model explained in chapter 7.2.2 of the textbook. I only look at a single case in the simulation to see how important the input uncertainty is: I look at the chance of overshooting $\\tau_{2030}$ in the likely emission, high growth scenario, comparing the estimation error to this input uncertainty."
   ]
  },
  {
   "cell_type": "code",
   "execution_count": 221,
   "metadata": {},
   "outputs": [],
   "source": [
    "def bootstrap(data, b):\n",
    "    \"\"\"return b boostraps = length of data m.\"\"\"\n",
    "    b_samps = np.array([np.random.choice(data, len(data), replace=True) for i in range(b)])\n",
    "\n",
    "    return b_samps"
   ]
  },
  {
   "cell_type": "markdown",
   "metadata": {},
   "source": [
    "see what the distribution of lognormal mean and variance look like under bootstrapping"
   ]
  },
  {
   "cell_type": "code",
   "execution_count": 233,
   "metadata": {},
   "outputs": [
    {
     "name": "stdout",
     "output_type": "stream",
     "text": [
      "Single Family\n",
      "Missing Middle\n",
      "Mid High Rise\n"
     ]
    }
   ],
   "source": [
    "lmh_fits = []\n",
    "bs = 5000\n",
    "np.random.seed(Simr.seed)\n",
    "\n",
    "for form in Simr.lmh:\n",
    "    print(form)\n",
    "    # isolate form\n",
    "    m_sample = emdata2030.loc[emdata2030['labels_general'] == form]['ghg_per_unit']\n",
    "    # boostrap\n",
    "    boot_samples = bootstrap(m_sample, bs)\n",
    "    # fit all boostraps\n",
    "    param_samples = [stats.lognorm.fit(b, floc=0) for b in boot_samples]\n",
    "    #param_samples = [stats.lognorm.fit(b) for b in boot_samples]\n",
    "    lmh_fits.append(param_samples)\n",
    "\n",
    "lmh_fits = np.array(lmh_fits) #3x5000x3"
   ]
  },
  {
   "cell_type": "code",
   "execution_count": 352,
   "metadata": {},
   "outputs": [
    {
     "data": {
      "image/png": "[encoded data removed]",
      "text/plain": [
       "<Figure size 720x432 with 6 Axes>"
      ]
     },
     "metadata": {
      "needs_background": "light"
     },
     "output_type": "display_data"
    }
   ],
   "source": [
    "# plot\n",
    "np.array(lmh_fits[0])[:,2]\n",
    "\n",
    "fig, ax = plt.subplots(2,3, figsize=(10,6))\n",
    "\n",
    "for i, form in enumerate(Simr.lmh):\n",
    "    form_fits = lmh_fits[i]\n",
    "\n",
    "    ax[0,i].hist(form_fits[:,0], color='#00A6A6', alpha=0.8)\n",
    "    ax[1,i].hist(form_fits[:,2], color='#F08700', alpha=0.8)\n",
    "\n",
    "    ax[1,i].set_xlabel(form)\n",
    "ax[0,0].set_ylabel('lognorm $\\sigma$')\n",
    "ax[1,0].set_ylabel('lognorm $\\mu$')\n",
    "\n",
    "plt.tight_layout()\n",
    "#plt.savefig('input_uncertainty.png', bbox_inches='tight')"
   ]
  },
  {
   "cell_type": "markdown",
   "metadata": {},
   "source": [
    "## Random effects model:\n",
    "Find the input uncertainty and compare to estimation error effect for $P(\\theta > \\tau_{2030})$ using fixed effect model $\\theta_{i,j} = \\mu(\\hat{\\theta_i}^\\star) + \\epsilon_{i,j}$ <br>\n",
    "The simulation takes input data and fits it in a dataframe format; I could try re-coding the simulation a bit, or I could take the boostraps and put them into a pd format before passing to simulation. Either way it is a bit of extra work/compute time.\n",
    "Recreate the mle fit object using the boostrap and pass it directly into the simulation:"
   ]
  },
  {
   "cell_type": "code",
   "execution_count": 235,
   "metadata": {},
   "outputs": [
    {
     "name": "stdout",
     "output_type": "stream",
     "text": [
      "{'Single Family': (0.34156471599981747, -4850.417863726592, 59012.66527888997), 'Missing Middle': (0.39344212087064473, -4153.83861988527, 25351.162062136536), 'Mid High Rise': (0.40317545678411815, 4651.679507032197, 15973.554882754557)}\n"
     ]
    },
    {
     "data": {
      "text/plain": [
       "{'Single Family': array([3.54983344e-01, 0.00000000e+00, 6.25808225e+04]),\n",
       " 'Missing Middle': array([4.85799868e-01, 0.00000000e+00, 1.94619902e+04]),\n",
       " 'Mid High Rise': array([3.43493338e-01, 0.00000000e+00, 2.36130656e+04])}"
      ]
     },
     "execution_count": 235,
     "metadata": {},
     "output_type": "execute_result"
    }
   ],
   "source": [
    "embodied_params_i = Simr.embodied_fitter_mle(data=Simr.e_data.loc[Simr.e_data['year']==Simr.year], \n",
    "                                             distribution=Simr.e_distribution)\n",
    "print(embodied_params_i)\n",
    "\n",
    "def return_params_rem(lmh_fit_mat, i):\n",
    "    \"\"\"returns mle dict to pass into simulation for replication i.\"\"\"\n",
    "    params_rem = {}\n",
    "    params_rem['Single Family'] = lmh_fit_mat[0][i]\n",
    "    params_rem['Missing Middle'] = lmh_fit_mat[1][i]\n",
    "    params_rem['Mid High Rise'] = lmh_fit_mat[2][i]\n",
    "    return params_rem\n",
    "\n",
    "return_params_rem(lmh_fits, 1)"
   ]
  },
  {
   "cell_type": "code",
   "execution_count": 236,
   "metadata": {},
   "outputs": [
    {
     "data": {
      "text/plain": [
       "array([[3.87395289e-01, 0.00000000e+00, 5.39842384e+04],\n",
       "       [3.54983344e-01, 0.00000000e+00, 6.25808225e+04],\n",
       "       [3.38473060e-01, 0.00000000e+00, 5.56836108e+04],\n",
       "       ...,\n",
       "       [3.67745512e-01, 0.00000000e+00, 4.92664461e+04],\n",
       "       [3.66129814e-01, 0.00000000e+00, 5.34072174e+04],\n",
       "       [3.44946168e-01, 0.00000000e+00, 6.04905090e+04]])"
      ]
     },
     "execution_count": 236,
     "metadata": {},
     "output_type": "execute_result"
    }
   ],
   "source": [
    "lmh_fits[0]"
   ]
  },
  {
   "cell_type": "markdown",
   "metadata": {},
   "source": [
    "Single-year simulation function modified to take in boostrapped inputs"
   ]
  },
  {
   "cell_type": "code",
   "execution_count": 226,
   "metadata": {},
   "outputs": [],
   "source": [
    "# single year using the simulation object\n",
    "def single_year_simulation(b, b_cumulative, embodied_params_bootstrap):\n",
    "    \"\"\"\n",
    "    Will calculate the emissions for self.year\n",
    "    including cumulative operational emissions.\n",
    "    b = houses built in year y\n",
    "    b_cumulative = houses built in years 1->y\n",
    "    \"\"\"\n",
    "    # ---FIT INPUT DATA---\n",
    "    # MLE for embodied, factor for operational\n",
    "    #embodied_params_i = Simr.embodied_fitter_mle(data=Simr.e_data.loc[Simr.e_data['year']==Simr.year], \n",
    "    #                                                distribution=Simr.e_distribution)\n",
    "    embodied_params_i = embodied_params_bootstrap\n",
    "    operational_factor_i = Simr.get_operational_factor(operational_df=Simr.o_data, \n",
    "                                                        year=Simr.year)\n",
    "\n",
    "    # get the number of starts for each housing type in 2030\n",
    "    n_lmh_2030 = Simr.split_n_lmh(n=b, l=Simr.nlmh[0], m=Simr.nlmh[1], h=Simr.nlmh[2])\n",
    "    # get the cumulative starts to 2030\n",
    "    n_lmh_2030_cumulative = Simr.split_n_lmh(n=b_cumulative, l=Simr.nlmh[0], m=Simr.nlmh[1], h=Simr.nlmh[2])\n",
    "\n",
    "\n",
    "    # ---SIMULATE: BUILD HOUSES, CALC PERFORMANCE VARIABLES---\n",
    "    # embodied emissions for the given year\n",
    "    embodied_i = Simr.build_embodied_lmh(n=b, e_params_dict=embodied_params_i,\n",
    "                                            distribution=Simr.e_distribution,\n",
    "                                            l=Simr.nlmh[0], m=Simr.nlmh[1], h=Simr.nlmh[2])\n",
    "\n",
    "    # operational emissions of cumulative houses built\n",
    "    operational_i = Simr.build_operational_lmh(n=b_cumulative, o_factor_dict=operational_factor_i,\n",
    "                                                l=Simr.nlmh[0], m=Simr.nlmh[1], h=Simr.nlmh[2])\n",
    "\n",
    "    # ---STORE OUTPUTS---\n",
    "    # full data\n",
    "    raw = {'year':Simr.year,\n",
    "                'embodied':embodied_i, \n",
    "                'operational_y':operational_i,\n",
    "                'num_built':n_lmh_2030_cumulative}\n",
    "\n",
    "    # emissions each year\n",
    "    embodied = embodied_i['Single Family']+embodied_i['Missing Middle']+embodied_i['Mid High Rise']\n",
    "    operational = operational_i['Single Family']+operational_i['Missing Middle']+operational_i['Mid High Rise']\n",
    "\n",
    "    # number built\n",
    "    built = n_lmh_2030_cumulative['Single Family'] + n_lmh_2030_cumulative['Missing Middle'] + n_lmh_2030_cumulative['Mid High Rise']\n",
    "\n",
    "    return {'raw':raw, 'E_e':embodied, 'E_o':operational, 'B':built}"
   ]
  },
  {
   "cell_type": "markdown",
   "metadata": {},
   "source": [
    "Run the random effects model algorithm"
   ]
  },
  {
   "cell_type": "code",
   "execution_count": 250,
   "metadata": {},
   "outputs": [
    {
     "name": "stdout",
     "output_type": "stream",
     "text": [
      "boostrap iter: 0\n",
      "boostrap iter: 1\n",
      "boostrap iter: 2\n",
      "boostrap iter: 3\n",
      "boostrap iter: 4\n",
      "boostrap iter: 5\n",
      "boostrap iter: 6\n",
      "boostrap iter: 7\n",
      "boostrap iter: 8\n",
      "boostrap iter: 9\n",
      "boostrap iter: 10\n",
      "boostrap iter: 11\n",
      "boostrap iter: 12\n",
      "boostrap iter: 13\n",
      "boostrap iter: 14\n",
      "boostrap iter: 15\n",
      "boostrap iter: 16\n",
      "boostrap iter: 17\n",
      "boostrap iter: 18\n",
      "boostrap iter: 19\n",
      "boostrap iter: 20\n",
      "boostrap iter: 21\n",
      "boostrap iter: 22\n",
      "boostrap iter: 23\n",
      "boostrap iter: 24\n",
      "boostrap iter: 25\n",
      "boostrap iter: 26\n",
      "boostrap iter: 27\n",
      "boostrap iter: 28\n",
      "boostrap iter: 29\n",
      "boostrap iter: 30\n",
      "boostrap iter: 31\n",
      "boostrap iter: 32\n",
      "boostrap iter: 33\n",
      "boostrap iter: 34\n",
      "boostrap iter: 35\n",
      "boostrap iter: 36\n",
      "boostrap iter: 37\n",
      "boostrap iter: 38\n",
      "boostrap iter: 39\n",
      "boostrap iter: 40\n",
      "boostrap iter: 41\n",
      "boostrap iter: 42\n",
      "boostrap iter: 43\n",
      "boostrap iter: 44\n",
      "boostrap iter: 45\n",
      "boostrap iter: 46\n",
      "boostrap iter: 47\n",
      "boostrap iter: 48\n",
      "boostrap iter: 49\n"
     ]
    }
   ],
   "source": [
    "input_replications = 50\n",
    "sim_replications = 500\n",
    "np.random.seed(Simr.seed)\n",
    "\n",
    "# boostrap sample fits were precalculate above using same random seed, we just have to get the specific\n",
    "# one for our replication.\n",
    "ij_thetas = []\n",
    "for i in range(input_replications):\n",
    "    params_i = return_params_rem(lmh_fits, i)\n",
    "    print('boostrap iter:', i)\n",
    "\n",
    "    # simulation iterations\n",
    "    j_thetas = []\n",
    "    for j in range(sim_replications):\n",
    "        # housing sample paths\n",
    "        b_2030 = starts_data_hg10.loc[j,'2030'].astype(int)\n",
    "        b_2030_cum = starts_data_hg10.loc[j,'2023':'2030'].values.sum().astype(int)\n",
    "\n",
    "        # simulation\n",
    "        emit = single_year_simulation(b_2030, b_2030_cum, params_i)\n",
    "        j_thetas.append(emit['E_e']*1e-9 + emit['E_o']*1e-9)\n",
    "\n",
    "    ij_thetas.append(j_thetas)"
   ]
  },
  {
   "cell_type": "code",
   "execution_count": 339,
   "metadata": {},
   "outputs": [],
   "source": [
    "ij_thetas = np.array(ij_thetas)\n",
    "\n",
    "tau = 26.4\n",
    "ij_thetas_tau = np.int64(ij_thetas>tau)"
   ]
  },
  {
   "cell_type": "code",
   "execution_count": 340,
   "metadata": {},
   "outputs": [
    {
     "data": {
      "image/png": "[encoded data removed]",
      "text/plain": [
       "<Figure size 432x288 with 1 Axes>"
      ]
     },
     "metadata": {
      "needs_background": "light"
     },
     "output_type": "display_data"
    }
   ],
   "source": [
    "fig, ax = plt.subplots()\n",
    "for ip in ij_thetas:\n",
    "    sns.kdeplot(ip, ax=ax, color='b', alpha=0.6)"
   ]
  },
  {
   "cell_type": "markdown",
   "metadata": {},
   "source": [
    "Calculate estimator of $\\sigma_I^2$ vs the estimation error using $\\sigma_T^2$ $\\sigma_S^2$ on the MEAN of the cumulative emissions that year"
   ]
  },
  {
   "cell_type": "code",
   "execution_count": 343,
   "metadata": {},
   "outputs": [
    {
     "name": "stdout",
     "output_type": "stream",
     "text": [
      "sigma t 96.07062018089162\n",
      "sigma s 1.3432743781050922\n",
      "sigma i 0.18945469160557307\n",
      "sigma_s/n:  0.0026865487562101843\n",
      "ratio of input relative to estimation uncertainty:  70.51972951082037\n",
      "standard error sigma_s:  0.051831927961539154\n"
     ]
    }
   ],
   "source": [
    "n = sim_replications\n",
    "b = input_replications\n",
    "\n",
    "# calculate means across replications\n",
    "theta_dotdot = ij_thetas.mean()\n",
    "theta_idot = ij_thetas.mean(axis=1)\n",
    "\n",
    "# calculate r-ef-model estimator sigmas\n",
    "sigma_t = (n/(b-1))*np.sum((theta_idot - theta_dotdot)**2)\n",
    "print('sigma t', sigma_t)\n",
    "\n",
    "jvar = [np.sum((ij_thetas[i,:] - ij_thetas[i,:].mean())**2) for i in range(b)]\n",
    "sigma_s = (1/(b*(n-1)))*np.array(jvar).sum()\n",
    "print('sigma s', sigma_s)\n",
    "\n",
    "# calculate input uncertainty\n",
    "sigma_i = (sigma_t-sigma_s)/n\n",
    "print('sigma i', sigma_i)\n",
    "\n",
    "# ratio of input uncertainty\n",
    "print('sigma_s/n: ', (sigma_s/n))\n",
    "print('ratio of input relative to estimation uncertainty: ', sigma_i/(sigma_s/n))\n",
    "print('standard error sigma_s: ', np.sqrt(sigma_s/n))"
   ]
  },
  {
   "cell_type": "markdown",
   "metadata": {},
   "source": [
    "The input uncertainty is ~70x higher than estimation error! though estimation error here is very low because... what does this look like on probability of overshoot and if the standard error of input uncertainty was used for a confidence interval?"
   ]
  },
  {
   "cell_type": "code",
   "execution_count": 351,
   "metadata": {},
   "outputs": [
    {
     "name": "stdout",
     "output_type": "stream",
     "text": [
      "sigma t 8.542939591836733\n",
      "sigma s 0.19048921843687378\n",
      "SIGMA I 0.01670490074679972\n",
      "sigma_s/n:  0.00038097843687374754\n",
      "ratio of input relative to estimation uncertainty:  43.84736544114584\n",
      "standard error sigma_s:  0.01951866893191612\n",
      "\n",
      "\n",
      "if input uncertainty was a halfwidth: 0.29228 +- 0.035825562580064474\n"
     ]
    }
   ],
   "source": [
    "n = sim_replications\n",
    "b = input_replications\n",
    "\n",
    "# calculate means across replications\n",
    "theta_dotdot = ij_thetas_tau.mean()\n",
    "theta_idot = ij_thetas_tau.mean(axis=1)\n",
    "\n",
    "# calculate r-ef-model estimator sigmas\n",
    "sigma_t = (n/(b-1))*np.sum((theta_idot - theta_dotdot)**2)\n",
    "print('sigma t', sigma_t)\n",
    "\n",
    "jvar = [np.sum((ij_thetas_tau[i,:] - ij_thetas_tau[i,:].mean())**2) for i in range(b)]\n",
    "sigma_s = (1/(b*(n-1)))*np.array(jvar).sum()\n",
    "print('sigma s', sigma_s)\n",
    "\n",
    "# calculate input uncertainty\n",
    "sigma_i = (sigma_t-sigma_s)/n\n",
    "print('SIGMA I', sigma_i)\n",
    "\n",
    "# ratio of input uncertainty\n",
    "print('sigma_s/n: ', (sigma_s/n))\n",
    "print('ratio of input relative to estimation uncertainty: ', sigma_i/(sigma_s/n))\n",
    "print('standard error sigma_s: ', np.sqrt(sigma_s/n))\n",
    "print('\\n')\n",
    "print('if input uncertainty was a halfwidth:', theta_dotdot, '+-', 1.96*np.sqrt(sigma_i/b))"
   ]
  }
 ],
 "metadata": {
  "kernelspec": {
   "display_name": "base",
   "language": "python",
   "name": "python3"
  },
  "language_info": {
   "codemirror_mode": {
    "name": "ipython",
    "version": 3
   },
   "file_extension": ".py",
   "mimetype": "text/x-python",
   "name": "python",
   "nbconvert_exporter": "python",
   "pygments_lexer": "ipython3",
   "version": "3.9.12"
  }
 },
 "nbformat": 4,
 "nbformat_minor": 2
}
